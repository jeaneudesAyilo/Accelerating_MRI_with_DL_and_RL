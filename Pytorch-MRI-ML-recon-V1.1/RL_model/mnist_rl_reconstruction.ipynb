{
 "cells": [
  {
   "cell_type": "markdown",
   "metadata": {
    "id": "Y20IsfdIOZeu"
   },
   "source": [
    "## Mnist reconstruction using ddqn and spirit\n",
    "*Let's find out...*"
   ]
  },
  {
   "cell_type": "code",
   "execution_count": 4,
   "metadata": {
    "colab": {
     "base_uri": "https://localhost:8080/"
    },
    "executionInfo": {
     "elapsed": 8602,
     "status": "ok",
     "timestamp": 1669119875870,
     "user": {
      "displayName": "Ayayi AYILO",
      "userId": "01654688474303829088"
     },
     "user_tz": -60
    },
    "id": "RFSRjAPoOZex",
    "outputId": "aca1827b-dfc5-47d0-f55a-1b5edeb553ba"
   },
   "outputs": [
    {
     "name": "stdout",
     "output_type": "stream",
     "text": [
      "Number of acquired points in the whole mask : 7\n",
      "Number of acquired points in the local mask of size [28, 28] : 7\n",
      "acceleration : 0.25\n"
     ]
    }
   ],
   "source": [
    "import time\n",
    "import gym\n",
    "import math\n",
    "import random\n",
    "import numpy as np\n",
    "import os   \n",
    "import matplotlib.pyplot as plt\n",
    "import abc\n",
    "from sklearn.preprocessing import MinMaxScaler\n",
    "from collections import namedtuple, deque \n",
    "from easydict import EasyDict as edict \n",
    "from typing import (Any, Callable, Dict, Iterator, List, Mapping, Optional, Sequence, Sized, Tuple, Union)\n",
    "from reconstructor import supervised_model\n",
    "\n",
    "import torch\n",
    "import torchvision\n",
    "import torch.nn as nn\n",
    "import torchvision.datasets as dsets\n",
    "import torchvision.transforms as transforms\n",
    "import torch.nn.functional as F\n",
    "import torch.optim as optim\n",
    "from torchvision import datasets, transforms\n",
    "from torch.utils.data import Dataset, DataLoader, TensorDataset \n",
    "from torch.autograd import Variable\n"
   ]
  },
  {
   "cell_type": "code",
   "execution_count": 5,
   "metadata": {
    "colab": {
     "base_uri": "https://localhost:8080/"
    },
    "executionInfo": {
     "elapsed": 5841,
     "status": "ok",
     "timestamp": 1669119881700,
     "user": {
      "displayName": "Ayayi AYILO",
      "userId": "01654688474303829088"
     },
     "user_tz": -60
    },
    "id": "F-Of4OUVg_v2",
    "outputId": "2f173638-7490-46a4-9d52-f6688542e264"
   },
   "outputs": [
    {
     "name": "stdout",
     "output_type": "stream",
     "text": [
      "Requirement already satisfied: complexPyTorch in c:\\users\\jeane\\anaconda3\\lib\\site-packages (0.4)\n",
      "Requirement already satisfied: torch in c:\\users\\jeane\\anaconda3\\lib\\site-packages (from complexPyTorch) (1.10.0+cpu)Note: you may need to restart the kernel to use updated packages.\n",
      "Requirement already satisfied: typing-extensions in c:\\users\\jeane\\anaconda3\\lib\\site-packages (from torch->complexPyTorch) (3.7.4.2)\n",
      "\n"
     ]
    }
   ],
   "source": [
    "pip install complexPyTorch"
   ]
  },
  {
   "cell_type": "code",
   "execution_count": 7,
   "metadata": {
    "executionInfo": {
     "elapsed": 12,
     "status": "ok",
     "timestamp": 1669119881703,
     "user": {
      "displayName": "Ayayi AYILO",
      "userId": "01654688474303829088"
     },
     "user_tz": -60
    },
    "id": "CEylWONmOmot"
   },
   "outputs": [],
   "source": [
    "from complexPyTorch.complexLayers import ComplexBatchNorm2d, ComplexConv2d, ComplexLinear\n",
    "from complexPyTorch.complexFunctions import complex_relu, complex_max_pool2d"
   ]
  },
  {
   "cell_type": "markdown",
   "metadata": {
    "id": "59AQ4BkKlINn"
   },
   "source": [
    "## Data settings"
   ]
  },
  {
   "cell_type": "code",
   "execution_count": 8,
   "metadata": {
    "executionInfo": {
     "elapsed": 2326,
     "status": "ok",
     "timestamp": 1669119884019,
     "user": {
      "displayName": "Ayayi AYILO",
      "userId": "01654688474303829088"
     },
     "user_tz": -60
    },
    "id": "rNJiKVXKgLI-"
   },
   "outputs": [
    {
     "name": "stdout",
     "output_type": "stream",
     "text": [
      "Downloading http://yann.lecun.com/exdb/mnist/train-images-idx3-ubyte.gz\n",
      "Downloading http://yann.lecun.com/exdb/mnist/train-images-idx3-ubyte.gz to ../MNIST\\raw\\train-images-idx3-ubyte.gz\n"
     ]
    },
    {
     "data": {
      "application/vnd.jupyter.widget-view+json": {
       "model_id": "cec54abf2c8d4e0b84885be04bfe8373",
       "version_major": 2,
       "version_minor": 0
      },
      "text/plain": [
       "HBox(children=(FloatProgress(value=0.0, max=9912422.0), HTML(value='')))"
      ]
     },
     "metadata": {},
     "output_type": "display_data"
    },
    {
     "name": "stdout",
     "output_type": "stream",
     "text": [
      "\n",
      "Extracting ../MNIST\\raw\\train-images-idx3-ubyte.gz to ../MNIST\\raw\n",
      "\n",
      "Downloading http://yann.lecun.com/exdb/mnist/train-labels-idx1-ubyte.gz\n",
      "Downloading http://yann.lecun.com/exdb/mnist/train-labels-idx1-ubyte.gz to ../MNIST\\raw\\train-labels-idx1-ubyte.gz\n"
     ]
    },
    {
     "data": {
      "application/vnd.jupyter.widget-view+json": {
       "model_id": "4f96ce7810ad4e63ba11bfb097e17d72",
       "version_major": 2,
       "version_minor": 0
      },
      "text/plain": [
       "HBox(children=(FloatProgress(value=0.0, max=28881.0), HTML(value='')))"
      ]
     },
     "metadata": {},
     "output_type": "display_data"
    },
    {
     "name": "stdout",
     "output_type": "stream",
     "text": [
      "\n",
      "Extracting ../MNIST\\raw\\train-labels-idx1-ubyte.gz to ../MNIST\\raw\n",
      "\n",
      "Downloading http://yann.lecun.com/exdb/mnist/t10k-images-idx3-ubyte.gz\n",
      "Downloading http://yann.lecun.com/exdb/mnist/t10k-images-idx3-ubyte.gz to ../MNIST\\raw\\t10k-images-idx3-ubyte.gz\n"
     ]
    },
    {
     "data": {
      "application/vnd.jupyter.widget-view+json": {
       "model_id": "92f6d8e42c1a443496e66ed92dfd5b12",
       "version_major": 2,
       "version_minor": 0
      },
      "text/plain": [
       "HBox(children=(FloatProgress(value=0.0, max=1648877.0), HTML(value='')))"
      ]
     },
     "metadata": {},
     "output_type": "display_data"
    },
    {
     "name": "stdout",
     "output_type": "stream",
     "text": [
      "\n",
      "Extracting ../MNIST\\raw\\t10k-images-idx3-ubyte.gz to ../MNIST\\raw\n",
      "\n",
      "Downloading http://yann.lecun.com/exdb/mnist/t10k-labels-idx1-ubyte.gz\n",
      "Downloading http://yann.lecun.com/exdb/mnist/t10k-labels-idx1-ubyte.gz to ../MNIST\\raw\\t10k-labels-idx1-ubyte.gz\n"
     ]
    },
    {
     "data": {
      "application/vnd.jupyter.widget-view+json": {
       "model_id": "9c24805328a14e0ebf9d88a31657656d",
       "version_major": 2,
       "version_minor": 0
      },
      "text/plain": [
       "HBox(children=(FloatProgress(value=0.0, max=4542.0), HTML(value='')))"
      ]
     },
     "metadata": {},
     "output_type": "display_data"
    },
    {
     "name": "stdout",
     "output_type": "stream",
     "text": [
      "\n",
      "Extracting ../MNIST\\raw\\t10k-labels-idx1-ubyte.gz to ../MNIST\\raw\n",
      "\n"
     ]
    }
   ],
   "source": [
    "##load data\n",
    "mnist_train = torchvision.datasets.MNIST(root='../', train=True, download=True,) #'./'\n",
    "                             #transform=t)\n",
    "\n",
    "X_mnist_train, y_mnist_train = (mnist_train.data)/255., (mnist_train.targets)\n",
    "X_mnist_train = X_mnist_train.reshape((len(mnist_train),1,28,28))\n",
    "\n",
    "mnist_test = torchvision.datasets.MNIST(root= '../',train=False, download=True,)\n",
    "                             #transform=t)\n",
    "\n",
    "X_mnist_test, y_mnist_test = (mnist_test.data)/255., (mnist_test.targets)\n",
    "X_mnist_test =X_mnist_test.reshape((len(mnist_test),1,28,28))"
   ]
  },
  {
   "cell_type": "code",
   "execution_count": 9,
   "metadata": {
    "executionInfo": {
     "elapsed": 22,
     "status": "ok",
     "timestamp": 1669119884020,
     "user": {
      "displayName": "Ayayi AYILO",
      "userId": "01654688474303829088"
     },
     "user_tz": -60
    },
    "id": "O60jLbkdwzHP"
   },
   "outputs": [],
   "source": [
    "from numpy.fft import fftshift, ifftshift, fftn, ifftn\n",
    "def transform_kspace_to_image(k, dim=None, img_shape=None):\n",
    "    \"\"\" Computes the Fourier transform from k-space to image space\n",
    "    along a given or all dimensions\n",
    "    :param k: k-space data\n",
    "    :param dim: vector of dimensions to transform\n",
    "    :param img_shape: desired shape of output image\n",
    "    :returns: data in image space (along transformed dimensions)\n",
    "    \"\"\"\n",
    "    if not dim:\n",
    "        dim = range(k.ndim)\n",
    "\n",
    "    img = fftshift(ifftn(ifftshift(k, axes=dim), s=img_shape, axes=dim), axes=dim)\n",
    "    #img *= np.sqrt(np.prod(np.take(img.shape, dim)))\n",
    "    return img\n",
    "  \n",
    "def transform_image_to_kspace(img, dim=None, k_shape=None):\n",
    "  \"\"\" Computes the Fourier transform from image space to k-space space\n",
    "  along a given or all dimensions\n",
    "  :param img: image space data\n",
    "  :param dim: vector of dimensions to transform\n",
    "  :param k_shape: desired shape of output k-space data\n",
    "  :returns: data in k-space (along transformed dimensions)\n",
    "  \"\"\"\n",
    "  if not dim:\n",
    "      dim = range(img.ndim)\n",
    "\n",
    "  k = fftshift(fftn(ifftshift(img, axes=dim), s=k_shape, axes=dim), axes=dim) # fftshi()\n",
    "  #k /= np.sqrt(np.prod(np.take(img.shape, dim)))\n",
    "  return k"
   ]
  },
  {
   "cell_type": "code",
   "execution_count": null,
   "metadata": {
    "executionInfo": {
     "elapsed": 20,
     "status": "ok",
     "timestamp": 1669119884020,
     "user": {
      "displayName": "Ayayi AYILO",
      "userId": "01654688474303829088"
     },
     "user_tz": -60
    },
    "id": "TJwy24Vif-RK"
   },
   "outputs": [],
   "source": []
  },
  {
   "cell_type": "code",
   "execution_count": null,
   "metadata": {
    "executionInfo": {
     "elapsed": 20,
     "status": "ok",
     "timestamp": 1669119884021,
     "user": {
      "displayName": "Ayayi AYILO",
      "userId": "01654688474303829088"
     },
     "user_tz": -60
    },
    "id": "MhWVAQc_5mB3"
   },
   "outputs": [],
   "source": []
  },
  {
   "cell_type": "code",
   "execution_count": 10,
   "metadata": {
    "executionInfo": {
     "elapsed": 19,
     "status": "ok",
     "timestamp": 1669119884022,
     "user": {
      "displayName": "Ayayi AYILO",
      "userId": "01654688474303829088"
     },
     "user_tz": -60
    },
    "id": "Q69bLnNd6Q4u"
   },
   "outputs": [],
   "source": [
    "def reshape_mask(mask, heigh,batch_mask=False):\n",
    "\n",
    "  \"\"\" if batch_mask = True reshape a mask of the shape (batch_size, 1, width), into  (batch_size, 1,heigh, width, 2)  \n",
    "  else, reshape a mask of the shape (1, width), into  (1,heigh, width, 2)\n",
    "  \"\"\"\n",
    "  if batch_mask:\n",
    "    adjust_mask = torch.unsqueeze( torch.tile( mask ,(heigh, 1) ) ,1)     #torch.tile( mask ,(heigh, 1) ) will only give (batch_size, heigh, width)\n",
    "  else:\n",
    "    adjust_mask = torch.unsqueeze( torch.tile( mask ,(heigh, 1) ) ,0) \n",
    "  \n",
    "  return torch.stack((adjust_mask, adjust_mask), dim=-1,)\n",
    "\n",
    "\n",
    "class customDataset(Dataset):\n",
    "    ''' \n",
    "        Create a dataloader which takes a tuples of mnist data and \"one\" \n",
    "    '''    \n",
    "\n",
    "    def __init__(self, x_mnist_data, kspace_shape, nb_columns_preselected):\n",
    "        \n",
    "        self.x_mnist_data = x_mnist_data ##the x_mnist_data here should be the true kspace of the data (60000,1,28,28,2)\n",
    "        self.kspace_heigh, self.kspace_width = kspace_shape\n",
    "        self.nb_columns_preselected = nb_columns_preselected\n",
    "\n",
    "        self.mask = torch.zeros(1, self.kspace_width) # (1, 28) ## we prefere this shape because the q_values that will be predicted will also have this shape. remember that we are choosing coumn to acquire\n",
    "        self.mask[:,self.kspace_width//2-1 : self.kspace_width//2-1+self.nb_columns_preselected ]=1 ## specify the columns that are preselected in the middle of the kspace ; add -1  to self.kspace_width//2 due to how python counts,starting by 0 \n",
    "\n",
    "      \n",
    "    def __getitem__(self, index): \n",
    "        ## index  est une position entre 1 et 60000 (0 et 59999 plus précisément)\n",
    "        target_kspace =  self.x_mnist_data[index] # (1, 28, 28, 2)\n",
    "        mask = self.mask        #(1, 28)        \n",
    "        partial_kspace = target_kspace * reshape_mask(mask, self.kspace_heigh, batch_mask=False)   # set the kspace into shape (1, 28, 28, 2) before the element-wise product. partial_kspace is typically the zero-filling kspace\n",
    "\n",
    "        sample = {'target_kspace': target_kspace, \"mask\":mask,\"partial_kspace\":partial_kspace}  # target_kspace and partial_kspace shape(batch_size, 1, 28, 28, 2) ; mask shape :(batch_size, 1, 28). batch_size = image_per_episode\n",
    "\n",
    "        return sample\n",
    "\n",
    "    def __len__(self):\n",
    "        return len(self.x_mnist_data)\n",
    "\n"
   ]
  },
  {
   "cell_type": "code",
   "execution_count": null,
   "metadata": {
    "executionInfo": {
     "elapsed": 19,
     "status": "ok",
     "timestamp": 1669119884023,
     "user": {
      "displayName": "Ayayi AYILO",
      "userId": "01654688474303829088"
     },
     "user_tz": -60
    },
    "id": "tyzMib3RLhL1"
   },
   "outputs": [],
   "source": []
  },
  {
   "cell_type": "code",
   "execution_count": 11,
   "metadata": {
    "executionInfo": {
     "elapsed": 20,
     "status": "ok",
     "timestamp": 1669119884024,
     "user": {
      "displayName": "Ayayi AYILO",
      "userId": "01654688474303829088"
     },
     "user_tz": -60
    },
    "id": "xYXvAkG04_WS"
   },
   "outputs": [],
   "source": [
    "class own_minmaxscaler:\n",
    "\n",
    "  def __init__(self, base_scaler=MinMaxScaler()):\n",
    "    self.base_scaler = base_scaler\n",
    "\n",
    "\n",
    "  def fit(self,train_data):\n",
    "      assert train_data.ndim ==2 and  train_data.shape[1]==1 and np.iscomplexobj(train_data)==False ## we want x_train to be of shape [n,1] ==> the complexe [N,1,28,28] should be set to this shape\n",
    "      self.base_scaler.fit( np.abs(train_data)  ) ## get the min and max by doing : base_scaler.data_max_ ; base_scaler.data_min_\n",
    "\n",
    "  def transform(self,x):\n",
    "    return x/self.base_scaler.data_max_\n",
    "\n",
    "  def inverse_transform(self,x):\n",
    "    return x*self.base_scaler.data_max_\n",
    "\n",
    "\n",
    "def transform_data(x_train, x_test, device , num_parallel_episodes , kspace_shape, nb_columns_preselected ,mode =\"train\", scaler = own_minmaxscaler()):  \n",
    "\n",
    "  ##x_train, x_test are typically  the raw mnist data divided by 255 \n",
    "\n",
    "  train_size = x_train.shape[0]\n",
    "  test_size= x_test.shape[0]\n",
    "\n",
    "  x_train = transform_image_to_kspace(x_train, dim=(2,3)) ## fftshift -> fftn -> ifftshift\n",
    "\n",
    "  #x_test = transform_image_to_kspace(x_test, dim=(2,3)) \n",
    "  \n",
    "  u_train = np.vstack(( np.squeeze(x_train.real), np.squeeze(x_train.imag) ) ).flatten().reshape(-1,1)\n",
    "\n",
    "  ##normalize kspace\n",
    "  scaler.fit(u_train); x_train= scaler.transform(x_train) ; #x_test= scaler.transform(x_test)\n",
    "\n",
    "  print(\"max on train data\",scaler.base_scaler.data_max_,\"\\n\",\"min on train data\", scaler.base_scaler.data_min_ )\n",
    "\n",
    "  ##convert to torch tensor\n",
    "  x_train = torch.stack((torch.from_numpy(x_train.real), torch.from_numpy(x_train.imag)),dim=-1).float().to(device) # [60000,28,28,2]\n",
    "  #x_test =  torch.stack((torch.from_numpy(x_test.real), torch.from_numpy(x_test.imag)),dim=-1).float().to(device)\n",
    "\n",
    "  dataset = customDataset(x_train, kspace_shape, nb_columns_preselected)\n",
    "  train_loader = DataLoader(dataset, batch_size = num_parallel_episodes , shuffle=True )  \n",
    "\n",
    "  if mode == \"train\":return train_loader\n",
    "\n",
    "  if (mode == \"test\" or mode == \"train and test\") :\n",
    "      x_test = transform_image_to_kspace(x_test, dim=(2,3))\n",
    "      x_test= scaler.transform(x_test)\n",
    "\n",
    "      x_test =  torch.stack((torch.from_numpy(x_test.real), torch.from_numpy(x_test.imag)),dim=-1).float().to(device)\n",
    "\n",
    "      dataset_test = customDataset(x_test,kspace_shape, nb_columns_preselected)\n",
    "      test_loader = DataLoader(dataset_test, batch_size = num_parallel_episodes, shuffle=False)\n",
    "\n",
    "  if mode == \"test\": return test_loader\n",
    "\n",
    "  if mode == \"train and test\": return train_loader, test_loader  \n",
    "  ##we could return the scaler , so that in prediction time we could rescale the predicted values\n",
    "  ## return the two loaders is interesting when we create an env for which we want all the loaders to be ready, for example to do some validation while training"
   ]
  },
  {
   "cell_type": "code",
   "execution_count": null,
   "metadata": {
    "executionInfo": {
     "elapsed": 19,
     "status": "ok",
     "timestamp": 1669119884025,
     "user": {
      "displayName": "Ayayi AYILO",
      "userId": "01654688474303829088"
     },
     "user_tz": -60
    },
    "id": "4HNopkHlorxP"
   },
   "outputs": [],
   "source": []
  },
  {
   "cell_type": "code",
   "execution_count": 12,
   "metadata": {
    "executionInfo": {
     "elapsed": 20,
     "status": "ok",
     "timestamp": 1669119884027,
     "user": {
      "displayName": "Ayayi AYILO",
      "userId": "01654688474303829088"
     },
     "user_tz": -60
    },
    "id": "9XL9yjk2sdjl"
   },
   "outputs": [],
   "source": [
    "##function loop on the data, via the dataloader (iterable)\n",
    "def cycle(iterable,loops = 2):\n",
    "  \n",
    "  for i in range(loops):\n",
    "      for x in iterable:\n",
    "          yield x"
   ]
  },
  {
   "cell_type": "code",
   "execution_count": 13,
   "metadata": {
    "executionInfo": {
     "elapsed": 250,
     "status": "ok",
     "timestamp": 1669119884259,
     "user": {
      "displayName": "Ayayi AYILO",
      "userId": "01654688474303829088"
     },
     "user_tz": -60
    },
    "id": "4QwQ_g4UojvI"
   },
   "outputs": [],
   "source": [
    "## We want to reduce the number of training example (and testing example) by taking only a few number of images in each class. this is only to allow a quick checking during to check if everything is going well\n",
    "\n",
    "def reduce_minst_data(x, y ,nb_image_by_class = 50, seed = 123, shuffle=False):\n",
    "\n",
    "  indices = []\n",
    "\n",
    "  for image_label in range(10):\n",
    "    \n",
    "    np.random.seed(seed)\n",
    "    indices_label = np.random.choice((y == image_label).nonzero(as_tuple=True)[0], size=nb_image_by_class, replace=False)\n",
    "    indices.extend(indices_label)\n",
    "  \n",
    "  if shuffle:\n",
    "    np.random.seed(seed)\n",
    "    indices = np.random.permutation(indices) \n",
    "\n",
    "  return x[indices], y[indices]"
   ]
  },
  {
   "cell_type": "code",
   "execution_count": 14,
   "metadata": {
    "colab": {
     "base_uri": "https://localhost:8080/"
    },
    "executionInfo": {
     "elapsed": 15,
     "status": "ok",
     "timestamp": 1669119884260,
     "user": {
      "displayName": "Ayayi AYILO",
      "userId": "01654688474303829088"
     },
     "user_tz": -60
    },
    "id": "-h00TeyvojzD",
    "outputId": "67741eff-ac6b-471a-9f5f-0c15642849ba"
   },
   "outputs": [
    {
     "name": "stdout",
     "output_type": "stream",
     "text": [
      "X_train_short shape :  torch.Size([500, 1, 28, 28])\n",
      "y_train_short shape :  torch.Size([500])\n",
      "X_test_short shape :  torch.Size([100, 1, 28, 28])\n",
      "y_test_short shape :  torch.Size([100])\n"
     ]
    }
   ],
   "source": [
    "X_train_short, y_train_short = reduce_minst_data(X_mnist_train, y_mnist_train ,nb_image_by_class = 50, seed = 123, shuffle=False)\n",
    "\n",
    "X_test_short, y_test_short = reduce_minst_data(X_mnist_test, y_mnist_test , nb_image_by_class = 10, seed = 123, shuffle=False)\n",
    "\n",
    "print(\"X_train_short shape : \",X_train_short.shape)\n",
    "print(\"y_train_short shape : \",y_train_short.shape)\n",
    "print(\"X_test_short shape : \",X_test_short.shape)\n",
    "print(\"y_test_short shape : \",y_test_short.shape)"
   ]
  },
  {
   "cell_type": "markdown",
   "metadata": {
    "id": "vUY1cnHCxkiy"
   },
   "source": [
    "Some utility functions"
   ]
  },
  {
   "cell_type": "code",
   "execution_count": 15,
   "metadata": {
    "executionInfo": {
     "elapsed": 15,
     "status": "ok",
     "timestamp": 1669119884261,
     "user": {
      "displayName": "Ayayi AYILO",
      "userId": "01654688474303829088"
     },
     "user_tz": -60
    },
    "id": "8hM43560iDCH"
   },
   "outputs": [],
   "source": [
    "##see https://github.com/facebookresearch/active-mri-acquisition/blob/main/activemri/envs/util.py#L73\n",
    "\n",
    "def compute_mse(xs: torch.Tensor, ys: torch.Tensor) -> np.ndarray:\n",
    "    dims = tuple(range(1, len(xs.shape)))\n",
    "    return np.mean((ys.cpu().numpy() - xs.cpu().numpy()) ** 2, axis=dims)\n",
    "\n",
    "\n",
    "def compute_nmse(xs: torch.Tensor, ys: torch.Tensor) -> np.ndarray:\n",
    "    ys_numpy = ys.cpu().numpy()\n",
    "    nmses = []\n",
    "    for i in range(xs.shape[0]):\n",
    "        x = xs[i].cpu().numpy()\n",
    "        y = ys_numpy[i]\n",
    "        nmse = np.linalg.norm(y - x) ** 2 / np.linalg.norm(y) ** 2\n",
    "        nmses.append(nmse)\n",
    "    return np.array(nmses, dtype=np.float32)  \n",
    "\n",
    "\n",
    "##see https://github.com/facebookresearch/active-mri-acquisition/blob/main/activemri/envs/masks.py#L18\n",
    "def update_masks_from_indices(\n",
    "    masks: torch.Tensor, indices: Sequence[int]\n",
    ") -> torch.Tensor:\n",
    "    assert masks.shape[0] == len(indices)\n",
    "    new_masks = masks.clone()\n",
    "    for i in range(len(indices)):\n",
    "        new_masks[i, ..., indices[i]] = 1\n",
    "    return new_masks\n",
    "\n",
    "##see https://github.com/facebookresearch/active-mri-acquisition/blob/main/activemri/envs/masks.py#L28\n",
    "def check_masks_complete(masks: torch.Tensor) -> List[bool]:\n",
    "    done = []\n",
    "    for mask in masks:\n",
    "        done.append(mask.bool().all().item())\n",
    "    return done"
   ]
  },
  {
   "cell_type": "markdown",
   "metadata": {
    "id": "A2RkFjvMqx1O"
   },
   "source": [
    "## Environment settings\n",
    "Inspired from [here](https://github.com/facebookresearch/active-mri-acquisition/blob/main/activemri/envs/envs.py)"
   ]
  },
  {
   "cell_type": "code",
   "execution_count": 16,
   "metadata": {
    "executionInfo": {
     "elapsed": 213,
     "status": "ok",
     "timestamp": 1669121873251,
     "user": {
      "displayName": "Ayayi AYILO",
      "userId": "01654688474303829088"
     },
     "user_tz": -60
    },
    "id": "nJo4praFPFJX"
   },
   "outputs": [],
   "source": [
    "\n",
    "class MnistReconsEnv(gym.Env):\n",
    "    def __init__(self, n_loops,  device , reconstrutor_path , kspace_shape, num_parallel_episodes, nb_columns_preselected, budget,reward_metric, mode =\"train\", data = {\"x_train\":X_train_short, \"x_test\":X_test_short} ): \n",
    "        super().__init__()\n",
    "\n",
    "        if device ==\"cpu\": self.device = torch.device(\"cpu\")\n",
    "        else : self.device = torch.device(\"cuda:0\" if torch.cuda.is_available() else \"cpu\") \n",
    "        print(f\"Running on {device}\")\n",
    "\n",
    "        base_dataloader = transform_data(data[\"x_train\"], data[\"x_test\"], device , num_parallel_episodes , kspace_shape, nb_columns_preselected, mode)\n",
    "        self.loader = cycle(iterable = base_dataloader,                                         \n",
    "                            loops = n_loops)                \n",
    "        self.iterloader = enumerate(self.loader) \n",
    "        \n",
    "        self.dataset_length = len(base_dataloader.dataset) ##we will use it to compute the number of env step\n",
    "\n",
    "\n",
    "        self.budget = budget # nb_of new columns_to_acquire\n",
    "        self.kspace_height, self.kspace_width = kspace_shape\n",
    "        self.num_parallel_episodes = num_parallel_episodes          \n",
    "        self.reward_metric = reward_metric \n",
    "\n",
    "        self.action_space = gym.spaces.Discrete(self.kspace_width)    \n",
    "        self.observation_space = None\n",
    "\n",
    "        ##loading spirit reconstructor\n",
    "        supervised_model.load_state_dict(torch.load(reconstrutor_path, map_location=self.device))    \n",
    "        self._spirit_reconstructor = supervised_model.spirit_nn.to(self.device)    ##kspace reconstructor\n",
    "        self._spirit_reconstructor.eval()\n",
    "\n",
    "        self._did_reset = False \n",
    "        self._current_ground_truth = None\n",
    "        self._current_reconstruction = None\n",
    "        self._current_mask = None\n",
    "        self._current_score: Dict[str, np.ndarray] = None\n",
    "\n",
    "        self._steps_since_reset = 0   \n",
    "\n",
    "\n",
    "    @staticmethod\n",
    "    def _compute_score_given_tensors(\n",
    "        reconstruction: torch.Tensor, ground_truth: torch.Tensor\n",
    "    ) -> Dict[str, np.ndarray]:\n",
    "        mse = compute_mse(reconstruction, ground_truth)\n",
    "        nmse = compute_nmse(reconstruction, ground_truth)        \n",
    "        return {\"mse\": mse, \"nmse\": nmse}\n",
    "\n",
    "        print(\"Finish setting environment\")\n",
    "\n",
    "\n",
    "    def reset(self):\n",
    "        \n",
    "        \"\"\"Starts a new acquisition episode with a batch of images.\n",
    "        This methods performs the following steps:\n",
    "            1. Reads a batch of kspace from the environment's dataset. \n",
    "\t\t   This batch contains the corresponding initial acquisition mask for each kspace, and also the corresponding partial kspace\n",
    "           \n",
    "            2. Passes the batch of initial partial kspace and the initial mask to the transform function,\n",
    "               as inputs to the environment's reconstructor model.\n",
    "            3. Calls the reconstructor model on this input and returns its output\n",
    "               as an observation.\n",
    "\n",
    "        The observation returned is a dictionary with the following keys:\n",
    "            - *\"reconstruction\"(torch.Tensor):* The reconstructed kspace produced by the\n",
    "              environment's reconstructor model, using the current\n",
    "              acquisition mask.\n",
    "            \n",
    "            - *\"mask\"(torch.Tensor):* The current acquisition mask.\n",
    "        Returns:\n",
    "            tuple: tuple containing:\n",
    "                   - obs(dict(str,any): Observation dictionary.\n",
    "                   - metadata(dict(str,any): Metadata information containing the following keys:                        \n",
    "                        - *\"current_score\"(dict(str,float):* A dictionary with the error measures\n",
    "                          for the reconstruction (e.g., \"mse\", \"nmse\").\n",
    "        \"\"\"\n",
    "\n",
    "\n",
    "\n",
    "        self._did_reset = True        \n",
    "      \n",
    "        try:\n",
    "          batch_idx, sample = next(self.iterloader) \n",
    "\n",
    "        except StopIteration:\n",
    "          return {}, {} ## se rappeler qu'il faut mettre une condition if obs =={}\n",
    "          \n",
    "\n",
    "        self.current_ground_truth = sample[\"target_kspace\"] ## this will not change during one episode of a batch, which last nb_columns_to_acquire, it will change once we move to an other batch\n",
    "        self._current_mask = sample[\"mask\"]                  ## this will change during the episode, because we will acquire new columns. on a new batch, it will  reinitialized to have only the preseected columns                    \n",
    "\n",
    "\n",
    "        with torch.no_grad():\n",
    "          self._current_reconstruction = self._spirit_reconstructor(sample[\"partial_kspace\"],                                                     \n",
    "                                                      reshape_mask(self._current_mask, self.kspace_height,batch_mask=True) )  ## same comment as for mask\n",
    "        #print(\"self._current_reconstruction.shape\", self._current_reconstruction.shape)\n",
    "        obs = {\"reconstruction\":self._current_reconstruction.cpu(), \"mask\": self._current_mask.cpu()}\n",
    "\n",
    "        #print(\"reconstruction\",obs[\"reconstruction\"].shape) ; print(\"self.current_ground_truth\",self.current_ground_truth.shape)\n",
    "          \n",
    "        self._current_score = self._compute_score_given_tensors(self._current_reconstruction, self.current_ground_truth )\n",
    "\n",
    "        self._steps_since_reset = 0\n",
    "\n",
    "        return obs, self._current_score\n",
    "\n",
    "\n",
    "    def step(self, action):\n",
    "\n",
    "        \"\"\"Performs a step of active MRI acquisition.\n",
    "        Given a set of indices for k-space columns to acquire, updates the current batch\n",
    "        of masks with their corresponding indices, creates a new batch of reconstructions,\n",
    "        and returns the corresponding observations and rewards (for the observation format\n",
    "        see :meth:`reset()`). The reward is the improvement in score with\n",
    "        respect to the reconstruction before adding the indices. The specific score metric\n",
    "        used is determined by ``env.reward_metric``.\n",
    "        The method also returns a list of booleans, indicating whether any episodes in the\n",
    "        batch have already concluded.\n",
    "        The last return value is a metadata dictionary. It contains a single key\n",
    "        \"current_score\", which contains a dictionary with the error measures for the\n",
    "        reconstruction (e.g., ``\"mse\", \"nmse\", \"ssim\", \"psnr\"``). The measures\n",
    "        considered can be obtained with :meth:`score_keys()`.\n",
    "        Args:\n",
    "            action(union(int, sequence(int))): Indices for k-space columns to acquire. The\n",
    "                                               length of the sequence must be equal to the\n",
    "                                               current number of parallel episodes\n",
    "                                               (i.e., ``obs[\"reconstruction\"].shape[0]``).\n",
    "                                               If only an ``int`` is passed, the index will\n",
    "                                               be replicated for the whole batch of episodes.\n",
    "        Returns:\n",
    "            tuple: The transition information in the order\n",
    "            ``(next_observation, reward, done, meta)``. The types and shapes are:\n",
    "              - ``next_observation(dict):`` Dictionary format (see :meth:`reset()`).\n",
    "              - ``reward(np.ndarray)``: length equal to current number of parallel\n",
    "                episodes.\n",
    "              - ``done(list(bool))``: same length as ``reward``.\n",
    "              - ``meta(dict)``: see description above.\n",
    "        \"\"\"\n",
    "\n",
    "        if not self._did_reset:\n",
    "            raise RuntimeError(\"Attempting to call env.step() before calling env.reset().\")\n",
    "\n",
    "\n",
    "        if isinstance(action, int):\n",
    "            action = [action for _ in range(self.num_parallel_episodes)]\n",
    "        \n",
    "\n",
    "        self._current_mask = update_masks_from_indices(self._current_mask, action) ##should be of size (num_parallel_episodes, 1, kspace_width)\n",
    "\n",
    "        ##compute the new kspace reconstruction and the corresponding score\n",
    "        reshaped_mask = reshape_mask(self._current_mask, self.kspace_height, batch_mask=True)\n",
    "        partial_kspace = self.current_ground_truth * reshaped_mask  ##add the new column acquired\n",
    "\n",
    "        with torch.no_grad():\n",
    "          self._current_reconstruction = self._spirit_reconstructor(partial_kspace,                                                     \n",
    "                                                                  reshaped_mask)  \n",
    "\n",
    "\n",
    "\n",
    "        obs = {\"reconstruction\":self._current_reconstruction.cpu(), \"mask\": self._current_mask.cpu()}\n",
    "        new_score = self._compute_score_given_tensors(self._current_reconstruction, self.current_ground_truth ) ##j'espère que quand on fera un learn de l'agent ddqn, cela ne chanboulera pas\n",
    "        \n",
    "        ##compute reward\n",
    "        reward = new_score[self.reward_metric] - self._current_score[self.reward_metric] ##shape (num_parallel_episodes,)\n",
    "\n",
    "        if self.reward_metric in [\"mse\", \"nmse\"]: ##we gain if score of step t is < to score at t+1. \n",
    "            reward *= -1\n",
    "        else:\n",
    "            raise RuntimeError(\"Not implemented reward function\") ## for ssim or psnr\n",
    "\n",
    "        self._current_score = new_score\n",
    "        self._steps_since_reset += 1\n",
    "\n",
    "        done = check_masks_complete(self._current_mask)\n",
    "        if self.budget and self._steps_since_reset >= self.budget:\n",
    "            done = [True] * len(done)                                     ##cette façon de calculer le done n'impacte t'il pas le done lors du learn de l'agent ddqn ?\n",
    "\n",
    "        return obs, reward, done, {\"current_score\": self._current_score}\n",
    "\n",
    "    \n",
    "    @staticmethod\n",
    "    def score_keys() -> List[str]:\n",
    "        \"\"\" Returns the list of score metric names used by this environment. \"\"\"\n",
    "        return [\"mse\", \"nmse\"]\n"
   ]
  },
  {
   "cell_type": "markdown",
   "metadata": {
    "id": "SYWj33LhbJWq"
   },
   "source": [
    "une différence entre l'implémentation ici et celle qu'on a faite pour la classification est que, ici on considère la durée d'un épisode comme étant égale au nombre de colonne à acquérir.\n",
    "cela implique qu'a la fin d'un épisode, il faut faire appel à la fonction reset afin qu'un nouveau batch soit chargé, le nombre de batch qui sera chargé du dataloarder etant égale \n",
    "à ((taille totale du dataset ie 60000)/taille d'un batch)*nombre de fois qu'on boucle sur le dataset ie n_loops . \n",
    "Or dans la classification, on n'a pas du tout utiliser des épisodes, on charge on charge dès qu'on a fini la classification d'une image, puisqu'il n'y a qu'une seule étape. "
   ]
  },
  {
   "cell_type": "code",
   "execution_count": null,
   "metadata": {
    "executionInfo": {
     "elapsed": 16,
     "status": "ok",
     "timestamp": 1669119884263,
     "user": {
      "displayName": "Ayayi AYILO",
      "userId": "01654688474303829088"
     },
     "user_tz": -60
    },
    "id": "IERiNCrpmxLS"
   },
   "outputs": [],
   "source": []
  },
  {
   "cell_type": "markdown",
   "metadata": {
    "id": "_MaXeR_zwpIw"
   },
   "source": [
    "## ddqn architecture"
   ]
  },
  {
   "cell_type": "code",
   "execution_count": 17,
   "metadata": {
    "executionInfo": {
     "elapsed": 204,
     "status": "ok",
     "timestamp": 1669123906446,
     "user": {
      "displayName": "Ayayi AYILO",
      "userId": "01654688474303829088"
     },
     "user_tz": -60
    },
    "id": "WSryvPIxPE_Y"
   },
   "outputs": [],
   "source": [
    "## this q-network will take as input k-spaces with complex values and output the q-values of the actions\n",
    "\n",
    "##the architecture of the model used comes from : https://github.com/wavefrontshaping/complexPyTorch\n",
    "\n",
    "class q_ComplexNet(nn.Module):\n",
    "    \n",
    "    def __init__(self, kspace_width, device):\n",
    "        \n",
    "        super(q_ComplexNet, self).__init__()\n",
    "        self.conv1 = ComplexConv2d(1, 10, 5, 1)\n",
    "        self.bn  = ComplexBatchNorm2d(10)\n",
    "        self.conv2 = ComplexConv2d(10, 20, 5, 1)\n",
    "        self.fc1 = ComplexLinear(4*4*20, 500)\n",
    "        self.fc2 = ComplexLinear(500, kspace_width)\n",
    "\n",
    "        self.device = device\n",
    "        self.num_actions = kspace_width\n",
    "\n",
    "    def forward(self, obs: Dict[str, Any]) -> torch.Tensor:\n",
    "        \n",
    "        \"\"\"Predicts action values.\n",
    "        Args:\n",
    "            obs(torch.Tensor): The observation tensor. \n",
    "        Returns:\n",
    "            torch.Tensor: Q-values for all actions at the given observation.\n",
    "        Note:\n",
    "            Values corresponding to active k-space columns in the observation are manually\n",
    "            set to ``1e-10``.\n",
    "        \"\"\"\n",
    "        \n",
    "        reconstructed_kspace, mask = obs[\"reconstruction\"],obs[\"mask\"]  ## in the data-specific case, they use the mask. here we want subject specific        \n",
    "        previous_actions = mask.squeeze().to(self.device) ##remember mask is of shape [batch_size,1, width = 28 ]\n",
    "                \n",
    "        #print(\"reconstructed_kspace.shape\", reconstructed_kspace.shape)       \n",
    "        \n",
    "        input_tensor = reconstructed_kspace[...,0] + 1j*reconstructed_kspace[...,1] \n",
    "        input_tensor = input_tensor.to(self.device) \n",
    "        #print(\"input_tensor.shape\", input_tensor.shape)\n",
    "        \n",
    "        x = self.conv1(input_tensor)\n",
    "        x = complex_relu(x)\n",
    "        x = complex_max_pool2d(x, 2, 2)\n",
    "        x = self.bn(x)\n",
    "        x = self.conv2(x)\n",
    "        x = complex_relu(x)\n",
    "        x = complex_max_pool2d(x, 2, 2)\n",
    "        x = x.view(-1,4*4*20)\n",
    "        x = self.fc1(x)\n",
    "        x = complex_relu(x)\n",
    "        x = self.fc2(x)\n",
    "        \n",
    "        qvalue = x.abs()  ### est ce que ça a de sens ???? Pour le moment, mon objectif est d'avoir un modèle qui a une démarche de RL, après on peut enlever ce qui ne marche pas.\n",
    "                         # value is of shape [nb_of_parallel_episode, kspace_width], \n",
    "        \n",
    "\n",
    "        return qvalue - 1e10 * previous_actions"
   ]
  },
  {
   "cell_type": "markdown",
   "metadata": {
    "id": "tabbubCU5i4A"
   },
   "source": [
    "## ddqn functionalities\n",
    "\n",
    "\n"
   ]
  },
  {
   "cell_type": "code",
   "execution_count": 18,
   "metadata": {
    "executionInfo": {
     "elapsed": 16,
     "status": "ok",
     "timestamp": 1669119884264,
     "user": {
      "displayName": "Ayayi AYILO",
      "userId": "01654688474303829088"
     },
     "user_tz": -60
    },
    "id": "-OO6z42g7tiD"
   },
   "outputs": [],
   "source": [
    "##update epsilon\n",
    "\n",
    "def _get_epsilon(steps_done, config):\n",
    "    return config.epsilon_end + (config.epsilon_start - config.epsilon_end) * math.exp(\n",
    "        -1.0 * steps_done / config.epsilon_decay\n",
    "    )\n"
   ]
  },
  {
   "cell_type": "code",
   "execution_count": 19,
   "metadata": {
    "executionInfo": {
     "elapsed": 321,
     "status": "ok",
     "timestamp": 1669124115424,
     "user": {
      "displayName": "Ayayi AYILO",
      "userId": "01654688474303829088"
     },
     "user_tz": -60
    },
    "id": "UHVv27WzEJtI"
   },
   "outputs": [],
   "source": [
    "\n",
    "class ReplayBuffer:\n",
    "    \"\"\"Fixed -size buffer to store experience tuples.\"\"\"\n",
    "    \n",
    "    def __init__(self, kspace_width, buffer_size, batch_size, device,seed=None):\n",
    "        \"\"\"Initialize a ReplayBuffer object.\n",
    "        \n",
    "        Params\n",
    "        ======\n",
    "            action_size (int): dimension of each action\n",
    "            buffer_size (int): maximum size of buffer\n",
    "            batch_size (int): size of each training batch\n",
    "            seed (int): random seed\n",
    "        \"\"\"\n",
    "        \n",
    "        self.action_size = kspace_width\n",
    "        self.memory = deque(maxlen=buffer_size)\n",
    "        self.batch_size = batch_size\n",
    "        self.experiences = namedtuple(\"Experience\", field_names=[\"obs\",\n",
    "                                                               \"action\",\n",
    "                                                               \"reward\",\n",
    "                                                               \"next_obs\",\n",
    "                                                               \"done\"])\n",
    "        self.seed = random.seed(seed)\n",
    "\n",
    "        self.device=device\n",
    "        if device ==\"cpu\": self.device = torch.device(\"cpu\")\n",
    "        else : self.device = torch.device(\"cuda:0\" if torch.cuda.is_available() else \"cpu\") \n",
    "        \n",
    "        \n",
    "    def add(self,obs, action, reward, next_obs,done):\n",
    "        \"\"\"Add a new experience to memory.\n",
    "        obs: a dict of a single reconstructed kspace and it correspondant mask\n",
    "        action : a single integer\n",
    "        reward : a single float\n",
    "        next_obs: a dict of a single reconstructed kspace and it correspondant mask\n",
    "        done : a single bool\n",
    "        \"\"\"\n",
    "        e = self.experiences(obs,action,reward,next_obs,done)\n",
    "        self.memory.append(e)\n",
    "\n",
    "\n",
    "    def concat_dict_element(self, dict_sample,dim=0): \n",
    "      \"\"\"concat the tensor that are in different state dictionnary or next_state\"\"\"\n",
    "      dico = {}\n",
    "      for key in dict_sample[0].keys():\n",
    "          dico[key] = torch.cat( [ dic[key] for dic in dict_sample ], dim).to(self.device) \n",
    "      \n",
    "      return dico ##this dict will contain a batch of reconstructed kspace, a batch of mask\n",
    "\n",
    "        \n",
    "    def sample(self):\n",
    "        \"\"\"Randomly sample a batch of experiences from memory\"\"\"\n",
    "\n",
    "        experiences = random.sample(self.memory,k=self.batch_size)\n",
    "          \n",
    "        obs = self.concat_dict_element([e.obs for e in experiences if e is not None],dim=0)\n",
    "\n",
    "        #print(\"RB reconstruction.shape\",obs[\"reconstruction\"].shape)\n",
    "\n",
    "        actions = torch.from_numpy(np.vstack([e.action for e in experiences if e is not None])).long().to(self.device) #shape : (batch_size,1)\n",
    "              \n",
    "        rewards = torch.from_numpy(np.vstack([e.reward for e in experiences if e is not None])).to(self.device) # shape : (batch_size,1)\n",
    "\n",
    "        next_obs = self.concat_dict_element([e.next_obs for e in experiences if e is not None],dim=0) ## dans quel cas on aurait None ??\n",
    "\n",
    "        dones = torch.from_numpy(np.vstack([e.done for e in experiences if e is not None]).astype(np.uint8)).to(self.device) # shape : (batch_size,1) ,boolean\n",
    "        \n",
    "        return (obs,actions,rewards,next_obs,dones) #next_obs is nothing else than a new image and its corresponding label, et si jamais on a besoin de son y ??\n",
    "\n",
    "    def __len__(self):\n",
    "        \"\"\"Return the current size of internal memory.\"\"\"\n",
    "        return len(self.memory)"
   ]
  },
  {
   "cell_type": "code",
   "execution_count": null,
   "metadata": {
    "executionInfo": {
     "elapsed": 15,
     "status": "ok",
     "timestamp": 1669119884266,
     "user": {
      "displayName": "Ayayi AYILO",
      "userId": "01654688474303829088"
     },
     "user_tz": -60
    },
    "id": "DJ3EjUECvsEu"
   },
   "outputs": [],
   "source": []
  },
  {
   "cell_type": "markdown",
   "metadata": {
    "id": "fWyOwRaWYEek"
   },
   "source": [
    "## ddqn"
   ]
  },
  {
   "cell_type": "code",
   "execution_count": 20,
   "metadata": {
    "executionInfo": {
     "elapsed": 368,
     "status": "ok",
     "timestamp": 1669124811338,
     "user": {
      "displayName": "Ayayi AYILO",
      "userId": "01654688474303829088"
     },
     "user_tz": -60
    },
    "id": "lnJSX0N03t-N"
   },
   "outputs": [],
   "source": [
    "class DDQN(nn.Module):\n",
    "\n",
    "    \"\"\"Implementation of Double DQN value network.\n",
    "    The configuration is given by the ``opts`` argument, which must contain the following\n",
    "    fields:\n",
    "        - gamma(float): Discount factor for target updates.\n",
    "        - budget(int): The environment's budget.\n",
    "        - kspace_shape (int, int): The width of the input images.\n",
    "    \n",
    "    Args:        \n",
    "        memory(optional(``Replaybuffer``)): Replay buffer to sample transitions\n",
    "            from. Can be ``None``, for example, if this is a target network.\n",
    "        config( could have been``argparse.Namespace``): Options for the algorithm as explained above.\n",
    "    \"\"\"\n",
    "\n",
    "    def __init__(\n",
    "        self,\n",
    "\n",
    "        memory: Optional[ReplayBuffer],\n",
    "        config: Dict # can also be argparse.Namespace,\n",
    "    ):\n",
    "        super().__init__()\n",
    "\n",
    "        self.config = config\n",
    "        self.memory = memory              \n",
    "\n",
    "        if config.device ==\"cpu\": self.device = torch.device(\"cpu\")\n",
    "        else : self.device = torch.device(\"cuda:0\" if torch.cuda.is_available() else \"cpu\") \n",
    "\n",
    "        self.model = q_ComplexNet(kspace_width=config.kspace_shape[1], device = self.device).to(device = self.device)\n",
    "        self.optimizer = optim.Adam(self.model.parameters(), lr=config.dqn_learning_rate)  \n",
    "        \n",
    "        self.to(self.device)\n",
    "\n",
    "    def add_experience(\n",
    "        self,\n",
    "        obs:Dict, \n",
    "        action: int,\n",
    "        next_obs: Dict, \n",
    "        reward: float,\n",
    "        done: bool,\n",
    "    ):\n",
    "        self.memory.add(obs, action, next_obs, reward, done)\n",
    "\n",
    "    def update_parameters(self, target_net: nn.Module) -> Optional[Dict[str, Any]]:\n",
    "\n",
    "        if len(self.memory) < self.config.min_length_replay_buffer:\n",
    "            pass #raise RuntimeError(\"replay buffer size has not reached min_length_replay_buffer yet\") in theory, we could define config.dqn_burn_in (How many steps to do before starting updating parameters) such that at step = dqn_burn_in, the replay buffer size is already >=min_length_replay_buffer\n",
    "\n",
    "        else:        \n",
    "            self.model.train()\n",
    "            \n",
    "            obs,actions,rewards,next_obs,dones = self.memory.sample() #remember shape obs and next_obs :{reconst : (batch_size,1,28,28,2), mask :(batch_size,1,28}; actions,rewards,dones : (batch_size,1)                              \n",
    "            \n",
    "\n",
    "            # Compute Q-values and get best action qvalues according to online network\n",
    "            predicted_q_values = self.forward(obs).gather(1,actions)\n",
    "            \n",
    "            ###in ddqn case\n",
    "            with torch.no_grad():\n",
    "                actions_q_online = self.forward(next_obs).detach().max(1)[1].unsqueeze(1).long()\n",
    "                labels_next = target_net.forward(next_obs).gather(1,actions_q_online)\n",
    "\n",
    "            # .detach() ->  Returns a new Tensor, detached from the current graph.\n",
    "            target_q_values = rewards + (self.config.gamma* labels_next*(1-dones))\n",
    "\n",
    "\n",
    "            ###in dqn case\n",
    "            # Compute target values using the best action found\n",
    "            #with torch.no_grad():\n",
    "            #    labels_next = target_net.forward(next_obs).detach().max(1)[0].unsqueeze(1)\n",
    "\n",
    "            # .detach() ->  Returns a new Tensor, detached from the current graph.\n",
    "            #target_q_values = rewards + (self.config.gamma* labels_next*(1-dones))\n",
    "\n",
    "\n",
    "            # loss = F.mse_loss(q_values, target_values.unsqueeze(1))\n",
    "            loss = F.smooth_l1_loss(predicted_q_values, target_q_values).to(self.device)\n",
    "\n",
    "            self.optimizer.zero_grad()\n",
    "            loss.backward()\n",
    "\n",
    "            # Compute total gradient norm (for logging purposes) and then clip gradients\n",
    "            grad_norm: torch.Tensor = 0  # type: ignore\n",
    "            for p in list(filter(lambda p: p.grad is not None, self.parameters())): \n",
    "                grad_norm += p.grad.data.norm(2).item() ** 2\n",
    "            grad_norm = grad_norm ** 0.5\n",
    "            torch.nn.utils.clip_grad_value_(self.parameters(), 1)\n",
    "\n",
    "            self.optimizer.step()\n",
    "\n",
    "            torch.cuda.empty_cache()\n",
    "\n",
    "            return {\n",
    "                \"loss\": loss,\n",
    "                \"grad_norm\": grad_norm,\n",
    "                \"q_values_mean\": predicted_q_values.detach().mean().cpu().numpy(),\n",
    "                \"q_values_std\": predicted_q_values.detach().std().cpu().numpy(),\n",
    "            }\n",
    "\n",
    "    def forward(self, x: torch.Tensor) -> torch.Tensor:\n",
    "        \"\"\"Predicts action values.\n",
    "        Args:\n",
    "            x(torch.Tensor): The observation tensor.\n",
    "        Returns:\n",
    "            Dictionary(torch.Tensor): The predicted Q-values.\n",
    "        Note:\n",
    "            Values corresponding to active k-space columns in the observation are manually\n",
    "            set to ``1e-10``.\n",
    "        \"\"\"\n",
    "        return self.model(x)\n",
    "\n",
    "    def get_action(  # type: ignore\n",
    "        self, obs: Dict[str, Any], eps_threshold: float = 0.0\n",
    "    ) -> List[int]:\n",
    "        \"\"\"Returns an action sampled from an epsilon-greedy policy.\n",
    "        With probability epsilon sample a random k-space column (ignoring active columns),\n",
    "        otherwise return the column with the highest estimated Q-value for the observation.\n",
    "        Args:\n",
    "            obs(torch.Tensor): The observation for which an action is required.\n",
    "            eps_threshold(float): The probability of sampling a random action instead of using\n",
    "                a greedy action.\n",
    "        \"\"\"\n",
    "        sample = random.random()\n",
    "        if sample < eps_threshold:\n",
    "            return torch.multinomial(1-obs[\"mask\"].float().squeeze() , 1).squeeze().tolist() ##this will choose for each element of the batch of masks (set to dimension (batch_size, 28) with squeeze), an index where the value is different from 1\n",
    "\n",
    "        with torch.no_grad():\n",
    "            self.model.eval()\n",
    "            \n",
    "            q_values = self.forward(obs)\n",
    "        actions = torch.argmax(q_values, dim=1)\n",
    "        return actions.tolist()\n",
    "\n"
   ]
  },
  {
   "cell_type": "code",
   "execution_count": 36,
   "metadata": {
    "executionInfo": {
     "elapsed": 423,
     "status": "ok",
     "timestamp": 1669128144809,
     "user": {
      "displayName": "Ayayi AYILO",
      "userId": "01654688474303829088"
     },
     "user_tz": -60
    },
    "id": "tq4-CySSjppm"
   },
   "outputs": [],
   "source": [
    "class DDQNTrainer:\n",
    "\n",
    "    \"\"\"DDQN Trainer for active MRI acquisition.\n",
    "    Configuration for the trainer is provided by argument ``config``. Must contain the\n",
    "    following fields:\n",
    "        - \"checkpoints_dir\"(str): The directory where the model will be saved to (or\n",
    "          loaded from).\n",
    "        - dqn_batch_size(int): The batch size to use for updates.\n",
    "        - dqn_burn_in(int): How many steps to do before starting updating parameters.\n",
    "\n",
    "        - dqn_only_test(bool): ``True`` if the model will not be trained, thus only will\n",
    "          attempt to read from checkpoint and load only weights of the network (ignoring\n",
    "          training related information).\n",
    "\n",
    "       \n",
    "        - freq_dqn_checkpoint_save(int): How often (in episodes) to save the model.\n",
    "        - num_train_steps(int): How many environment steps to train for.\n",
    "        - replay_buffer_size(int): The capacity of the replay buffer.\n",
    "        - resume(bool): If true, will try to load weights from the checkpoints dir.\n",
    "       \n",
    "\n",
    "        - reward_metric(str): Which of the function (nmse, mse) is used as reward. \n",
    "\n",
    "        - target_net_update_freq(int): How often (in env's steps) to update the target\n",
    "          network.\n",
    "    Args:\n",
    "        config : configurations setting of the env and the ddqn.\n",
    "        env(``activemri.envs.ActiveMRIEnv``): Env for which the policy is trained.        \n",
    "    \"\"\"\n",
    "\n",
    "    def __init__(\n",
    "        self,\n",
    "        env:MnistReconsEnv,\n",
    "        config:dict, # but could also be argparse.Namespace,        \n",
    "    ):\n",
    "        self.config = config\n",
    "        self.env = env\n",
    "        self.num_train_steps =  (((env.dataset_length + config.num_parallel_episodes - 1) // config.num_parallel_episodes )*config.num_loops_train_data)*config.budget # (nb_batch in the signe dataset)*nb times we loop on the dataset* number of column to acquire ; https://datascience.stackexchange.com/questions/45498/computing-number-of-batches-in-one-epoch\n",
    "        \n",
    "        self.steps = 0\n",
    "        self.episode = 0   ## it is nothing than the number of batch (num_parallel_episodes) in the dataset * the number of time we loop on the data set\n",
    "        \n",
    "        if config.device ==\"cpu\": self.device = torch.device(\"cpu\")\n",
    "        else : self.device = torch.device(\"cuda:0\" if torch.cuda.is_available() else \"cpu\") \n",
    "                              \n",
    "        self.window_size = 100 #1000\n",
    "        self.reward_images_in_window = np.zeros(self.window_size)\n",
    "        self.current_score_auc_window = np.zeros(self.window_size)\n",
    "\n",
    "\n",
    "        # ------- Create replay buffer and networks ------\n",
    "       \n",
    "        self.replay_memory = ReplayBuffer(kspace_width = config.kspace_shape[1], \n",
    "                                          buffer_size = config.replay_buffer_size, \n",
    "                                          batch_size=config.dqn_batch_size,\n",
    "                                          device=self.device,seed=None)    \n",
    "        print(\"Created replay buffer.\")\n",
    "\n",
    "        self.policy = DDQN(memory = self.replay_memory, config = self.config)\n",
    "        self.target_net = DDQN(memory = None, config = self.config)\n",
    "        self.target_net.eval()        \n",
    "        print(f\"Created neural networks with {self.env.action_space.n} outputs.\")\n",
    "\n",
    "\n",
    "    def _train_dqn_policy(self):\n",
    "        \"\"\" Trains the DQN policy. \"\"\"\n",
    "        print(\n",
    "            f\"Starting training at step {self.steps}/{self.num_train_steps}. \"\n",
    "            #f\"Best score so far is {self.best_test_score}.\"\n",
    "        )\n",
    "\n",
    "        steps_epsilon = self.steps\n",
    "        while self.steps < self.num_train_steps:\n",
    "            if self.steps%30==0:print(f\"Episode {self.episode + 1}/{(((self.env.dataset_length + self.config.num_parallel_episodes - 1) // self.config.num_parallel_episodes )*self.config.num_loops_train_data)}\")\n",
    "            #print(\"Episode {}\".format(self.episode + 1))\n",
    "\n",
    "            # Note that here we do not evaluate the current policy while training\n",
    "            \n",
    "\n",
    "            # Save model periodically\n",
    "            if self.episode % self.config.freq_dqn_checkpoint_save == 0:\n",
    "                torch.save(self.policy.state_dict(),os.path.join(self.config.checkpoints_dir,'ddqn.pth') )\n",
    "\n",
    "            # Run an episode and update model\n",
    "            obs, score = self.env.reset()\n",
    "            \n",
    "            all_done = False\n",
    "            total_reward = 0\n",
    "            auc_score = 0\n",
    "            while not all_done:\n",
    "                epsilon = _get_epsilon(steps_epsilon, self.config)\n",
    "                action = self.policy.get_action(obs, eps_threshold=epsilon)\n",
    "                next_obs, reward, done, meta = self.env.step(action) #meta is just the score in our case\n",
    "                auc_score += meta[\"current_score\"][self.config.reward_metric]\n",
    "                all_done = all(done)\n",
    "                self.steps += 1\n",
    "\n",
    "                nb_kspace_in_obs = len(obs[\"reconstruction\"])\n",
    "\n",
    "                for i in range(nb_kspace_in_obs):\n",
    "                    self.policy.add_experience(\n",
    "                        {\"reconstruction\":obs[\"reconstruction\"][i].unsqueeze(0), \"mask\": obs[\"mask\"][i].unsqueeze(0)}, #.unsqueeze(0), otherwise the memory will contain batch of (batch_size,28,28,2) instead of (batch_size,1,28,28,2)\n",
    "                        action[i], \n",
    "                        reward[i],\n",
    "                        {\"reconstruction\":next_obs[\"reconstruction\"][i].unsqueeze(0), \"mask\": next_obs[\"mask\"][i].unsqueeze(0)},                         \n",
    "                        done[i]\n",
    "                    )\n",
    "\n",
    "                    #print('obs[\"reconstruction\"][i]', obs[\"reconstruction\"][i].unsqueeze(0).shape)\n",
    "                    #print('obs[\"mask\"][i]', obs[\"mask\"][i].unsqueeze(0).shape)\n",
    "                    \n",
    "\n",
    "                update_results = self.policy.update_parameters(target_net = self.target_net)\n",
    "                \n",
    "                if update_results!=None: ##in this case, the online network has not been updated, because we have have not reach the min size forr replay buffer. note that here, as soon as the dqn_burn_in is reached and the buffer has the good size, the ddqn is updated all the next time. so don't set a freq for update online network. we will set dqn_burn_in such that there will be suffisant size for replay buff (rb)\n",
    "                  steps_epsilon += 1  ##for nb of parallele = 16, in one step, the rb is filled with 16*5 tuple, we know we will have  could for exemple set \n",
    "                \n",
    "                torch.cuda.empty_cache()\n",
    "\n",
    "                if self.steps % self.config.target_net_update_freq == 0:\n",
    "                    print(\"Updating target network.\")\n",
    "                    self.target_net.load_state_dict(self.policy.state_dict())\n",
    "                \n",
    "\n",
    "                # Adding per-step tensorboard logs\n",
    "                if self.steps % 250 == 0:\n",
    "                    \n",
    "                    print(\"epsilon\", epsilon, self.steps)\n",
    "                    if update_results is not None:\n",
    "                        print(\n",
    "                            \"loss\", update_results[\"loss\"], self.steps\n",
    "                        )\n",
    "                        print(\n",
    "                            \"grad_norm\", update_results[\"grad_norm\"], self.steps\n",
    "                        )\n",
    "                        print(\n",
    "                            \"mean_q_value\", update_results[\"q_values_mean\"], self.steps\n",
    "                        )\n",
    "\n",
    "                total_reward += reward\n",
    "                obs = next_obs\n",
    "\n",
    "            # Adding per-episode tensorboard logs\n",
    "            total_reward = total_reward.mean().item()\n",
    "            auc_score = auc_score.mean().item()\n",
    "            self.reward_images_in_window[self.episode % self.window_size] = total_reward\n",
    "            self.current_score_auc_window[self.episode % self.window_size] = auc_score\n",
    "            print(\"episode_reward\", total_reward, self.episode)\n",
    "            print(\n",
    "                \"average_reward_images_in_window\",\n",
    "                np.sum(self.reward_images_in_window)\n",
    "                / min(self.episode + 1, self.window_size),\n",
    "                self.episode,\n",
    "            )\n",
    "            print(\n",
    "                \"average_auc_score_in_window\",\n",
    "                np.sum(self.current_score_auc_window)\n",
    "                / min(self.episode + 1, self.window_size),\n",
    "                self.episode,\n",
    "            )\n",
    "\n",
    "            self.episode += 1\n",
    "\n",
    "\n",
    "        torch.save(self.policy.state_dict(),os.path.join(self.config.checkpoints_dir,'ddqn.pth') ) #self.checkpoint()\n",
    "  \n",
    "    def __call__(self):\n",
    "        return self._train_dqn_policy()\n",
    " "
   ]
  },
  {
   "cell_type": "code",
   "execution_count": 22,
   "metadata": {
    "executionInfo": {
     "elapsed": 422,
     "status": "ok",
     "timestamp": 1669128160917,
     "user": {
      "displayName": "Ayayi AYILO",
      "userId": "01654688474303829088"
     },
     "user_tz": -60
    },
    "id": "ubjW9-DmHuMW"
   },
   "outputs": [],
   "source": [
    "def training(config:Dict):\n",
    "\n",
    "    config = edict(config)\n",
    "\n",
    "    env = MnistReconsEnv(n_loops = config.num_loops_train_data,  \n",
    "                         device = config.device, \n",
    "                         reconstrutor_path = config.reconstrutor_path,\n",
    "                         kspace_shape = config.kspace_shape, num_parallel_episodes = config.num_parallel_episodes, \n",
    "                         nb_columns_preselected =config.nb_columns_preselected, \n",
    "                         budget = config.budget,   reward_metric = config.reward_metric,  \n",
    "                         mode =\"train\")\n",
    "        \n",
    "    policy = DDQNTrainer(env=env, config=config)\n",
    "    policy()"
   ]
  },
  {
   "cell_type": "code",
   "execution_count": null,
   "metadata": {
    "executionInfo": {
     "elapsed": 17,
     "status": "ok",
     "timestamp": 1669119884520,
     "user": {
      "displayName": "Ayayi AYILO",
      "userId": "01654688474303829088"
     },
     "user_tz": -60
    },
    "id": "Wv00tIiVe2Qp"
   },
   "outputs": [],
   "source": []
  },
  {
   "cell_type": "markdown",
   "metadata": {
    "id": "n93_lfq0RSYL"
   },
   "source": [
    "##functions for ddqn testing"
   ]
  },
  {
   "cell_type": "code",
   "execution_count": 23,
   "metadata": {
    "executionInfo": {
     "elapsed": 234,
     "status": "ok",
     "timestamp": 1669129978021,
     "user": {
      "displayName": "Ayayi AYILO",
      "userId": "01654688474303829088"
     },
     "user_tz": -60
    },
    "id": "GSzYDrm8ywh1"
   },
   "outputs": [],
   "source": [
    "def plotting_reconst(groundtruth, reconstruction, mask, height = 28,n=3, seed= None, plotting = \"all\", saving_path =None):\n",
    "  \"\"\"choose randomly some kspaces and plot they reconstruction and corresponding groundtruth and the mask\"\"\"\n",
    "  \n",
    "  if seed != None:\n",
    "    np.random.seed(seed)     \n",
    "  random_index = np.random.choice(len(groundtruth), n)\n",
    "\n",
    "  #groundtruth or reconstruction shape : (batch_size=len(groundtruth), 1,28,28,2) and after converting to image (batch_size=len(groundtruth), 1,28,28)\n",
    "\n",
    "  groundtruth = groundtruth[random_index][...,0] +1j*groundtruth[random_index][...,1] \n",
    "  groundtruth = transform_kspace_to_image(groundtruth, dim=(2,3)) #transform_kspace_to_image(input_array_complex, dim=(2,3))  #input_array = np.fft.ifft2(input_array_complex, axes=(2,3)) \n",
    "  \n",
    "  reconstruction = reconstruction[random_index][...,0] +1j*reconstruction[random_index][...,1]\n",
    "  reconstruction = transform_kspace_to_image(reconstruction, dim=(2,3)) #transform_kspace_to_image(output_array_complex, dim=(2,3))  #output_array = np.fft.ifft2(output_array_complex, axes=(2,3))\n",
    "\n",
    "  #mask shape : (batch_size=len(groundtruth), 1,28) and after tiling, (batch_size=len(groundtruth),height,28)\n",
    "  mask = np.array(torch.tile(mask[random_index],(1, height, 1)))\n",
    "\n",
    "  if plotting == \"all\":\n",
    "      fig, ax = plt.subplots(3,n, figsize=(15,6))\n",
    "        #plot some examples of reconstruction and their groundtruth\n",
    "      \n",
    "\n",
    "      for t in range(n):\n",
    "\n",
    "            ax[0,t].imshow(np.abs(groundtruth[t,0,:,:]),cmap = \"Greys_r\")  \n",
    "            ax[0,t].set_title(\"groundtruth\")\n",
    "            ax[0,t].axis(\"off\") \n",
    "\n",
    "            ax[1,t].imshow(mask[t,:,:],cmap = \"Greys_r\")  \n",
    "            ax[1,t].set_title(\"mask\")\n",
    "            ax[1,t].axis(\"off\")    \n",
    "\n",
    "            ax[2,t].imshow(np.abs(reconstruction[t,0,:,:]),cmap = \"Greys_r\")\n",
    "            ax[2,t].set_title(\"reconstruction\")\n",
    "            ax[2,t].axis(\"off\")\n",
    "            \n",
    "            #try:\n",
    "            #  plt.savefig(saving_path)\n",
    "            #except:\n",
    "            #  pass\n",
    "\n",
    "  if plotting == \"reconstruction and mask\":\n",
    "      fig, ax = plt.subplots(2,n, figsize=(10,6))\n",
    "        #plot some examples of reconstruction and their groundtruth\n",
    "      \n",
    "\n",
    "      for t in range(n):\n",
    "\n",
    "            ax[0,t].imshow(mask[t,:,:],cmap = \"Greys_r\")  \n",
    "            ax[0,t].set_title(\"mask\")\n",
    "            ax[0,t].axis(\"off\")    \n",
    "\n",
    "            ax[1,t].imshow(np.abs(reconstruction[t,0,:,:]),cmap = \"Greys_r\")\n",
    "            ax[1,t].set_title(\"reconstruction\")\n",
    "            ax[1,t].axis(\"off\")\n",
    "            \n",
    "            #try:\n",
    "            #  plt.savefig(saving_path)\n",
    "            #except:\n",
    "            #  pass\n",
    "\n",
    "      plt.show()"
   ]
  },
  {
   "cell_type": "code",
   "execution_count": 24,
   "metadata": {
    "executionInfo": {
     "elapsed": 307,
     "status": "ok",
     "timestamp": 1669131539130,
     "user": {
      "displayName": "Ayayi AYILO",
      "userId": "01654688474303829088"
     },
     "user_tz": -60
    },
    "id": "eDhUoGGwRXxq"
   },
   "outputs": [],
   "source": [
    "##see : https://github.com/facebookresearch/active-mri-acquisition/blob/2780bd93d0849ba060a60ee264d7dd407bd68162/activemri/baselines/evaluation.py\n",
    "\n",
    "def evaluate(\n",
    "    env: MnistReconsEnv,\n",
    "    policy,\n",
    "    num_episodes: int,\n",
    "    show:str\n",
    "    \n",
    ") -> Tuple[Dict[str, np.ndarray], List[Tuple[Any, Any]]]:\n",
    "    \n",
    "\n",
    "    score_keys = env.score_keys()\n",
    "    all_scores = dict(\n",
    "        (k, np.zeros((num_episodes * env.num_parallel_episodes, env.budget + 1))) ##we env.budget + 1 because we want the reconstrcution score since preselection ; num_episodes * env.num_parallel_episodes is nothing else than the total number of element in the looped dataset; if nloop=1, then it boils down to the number of element in the daaset. so here, what we want is the reconstruction score at each new column acquired for each element in the looped dataset\n",
    "        for k in score_keys\n",
    "    )\n",
    "    all_img_ids = []\n",
    "    trajectories_written = 0\n",
    "\n",
    "    if show==\"non_sequential_plot\":\n",
    "        for episode in range(num_episodes):\n",
    "            step = 0\n",
    "            obs, dico_score = env.reset()\n",
    "            if not obs:\n",
    "                break  # no more images\n",
    "            # in case the last batch is smaller\n",
    "            actual_batch_size = len(obs[\"reconstruction\"])\n",
    "            \n",
    "            #for i in range(actual_batch_size):\n",
    "            #    all_img_ids.append((meta[\"fname\"][i], meta[\"slice_id\"][i]))   obs, meta = env.reset()\n",
    "\n",
    "            batch_idx = slice(\n",
    "                trajectories_written, trajectories_written + actual_batch_size\n",
    "            )\n",
    "\n",
    "            for k in score_keys:\n",
    "                all_scores[k][batch_idx, step] = dico_score[k]\n",
    "            trajectories_written += actual_batch_size\n",
    "            \n",
    "            all_done = False\n",
    "            while not all_done: ## perform step utile we reach the budget\n",
    "                step += 1\n",
    "                action = policy.get_action(obs)\n",
    "                obs, reward, done, meta = env.step(action)\n",
    "                for k in score_keys:\n",
    "                    all_scores[k][batch_idx, step] = meta[\"current_score\"][k]\n",
    "                all_done = all(done)\n",
    "\n",
    "            if episode%5==0:\n",
    "              plotting_reconst(env.current_ground_truth, obs[\"reconstruction\"], obs[\"mask\"], height = env.kspace_height,n=3, seed= None) #obs[\"reconstruction\"], obs[\"mask\"] are the last updata, mask will have budget+nb_columns_preselected active columns\n",
    "\n",
    "    else : # show=\"sequential_plot\":\n",
    "        for episode in range(num_episodes):       \n",
    "          \n",
    "            step = 0\n",
    "            obs, dico_score = env.reset()\n",
    "            if not obs:\n",
    "                break  # no more images\n",
    "            # in case the last batch is smaller\n",
    "            actual_batch_size = len(obs[\"reconstruction\"])\n",
    "\n",
    "            if episode%5==0:\n",
    "              seed = np.random.choice(1000)\n",
    "              plotting_reconst(env.current_ground_truth, obs[\"reconstruction\"], obs[\"mask\"], height = env.kspace_height,n=3, seed= seed, plotting = \"all\") #groundtruth, first reconstruction and first mask\n",
    "            \n",
    "            #for i in range(actual_batch_size):\n",
    "            #    all_img_ids.append((meta[\"fname\"][i], meta[\"slice_id\"][i]))   obs, meta = env.reset()\n",
    "\n",
    "            batch_idx = slice(\n",
    "                trajectories_written, trajectories_written + actual_batch_size\n",
    "            )\n",
    "\n",
    "            for k in score_keys:\n",
    "                all_scores[k][batch_idx, step] = dico_score[k]\n",
    "            trajectories_written += actual_batch_size\n",
    "            \n",
    "            all_done = False\n",
    "            while not all_done: ## perform step utile we reach the budget\n",
    "                step += 1\n",
    "                action = policy.get_action(obs)\n",
    "                obs, reward, done, meta = env.step(action)\n",
    "                for k in score_keys:\n",
    "                    all_scores[k][batch_idx, step] = meta[\"current_score\"][k]\n",
    "                all_done = all(done)\n",
    "\n",
    "                if episode%5==0:              \n",
    "                  plotting_reconst(env.current_ground_truth, obs[\"reconstruction\"], obs[\"mask\"], height = env.kspace_height,n=3, seed= seed, plotting = \"reconstruction and mask\") #groundtruth, first reconstruction and first mask\n",
    "\n",
    "    #for k in score_keys:\n",
    "    #    all_scores[k] = all_scores[k][: len(all_img_ids), :] ##pourquoi faire ça?\n",
    "\n",
    "    return all_scores, trajectories_written #, all_img_ids"
   ]
  },
  {
   "cell_type": "code",
   "execution_count": null,
   "metadata": {
    "id": "FrJ5EAAg-nDM"
   },
   "outputs": [],
   "source": []
  },
  {
   "cell_type": "code",
   "execution_count": 25,
   "metadata": {
    "executionInfo": {
     "elapsed": 272,
     "status": "ok",
     "timestamp": 1669131456650,
     "user": {
      "displayName": "Ayayi AYILO",
      "userId": "01654688474303829088"
     },
     "user_tz": -60
    },
    "id": "ZBBkCk9xgqzP"
   },
   "outputs": [],
   "source": [
    "class DDQNTester:\n",
    "    def __init__(\n",
    "        self, env: MnistReconsEnv, config:dict,show\n",
    "    ):\n",
    "\n",
    "        self.env = env\n",
    "\n",
    "        if config.device ==\"cpu\": self.device = torch.device(\"cpu\")\n",
    "        else : self.device = torch.device(\"cuda:0\" if torch.cuda.is_available() else \"cpu\") \n",
    "\n",
    "        self.num_test_episodes = ((env.dataset_length + config.num_parallel_episodes - 1) // config.num_parallel_episodes )*config.num_loops_test_data\n",
    "\n",
    "        self.config = config\n",
    "\n",
    "        # Initialize policy\n",
    "        self.policy = DDQN(memory=None, config=self.config)\n",
    "\n",
    "        self.policy.load_state_dict(torch.load(os.path.join(self.config.checkpoints_dir,'ddqn.pth')))\n",
    "\n",
    "        #self.best_test_score = -np.inf\n",
    "        self.show=show\n",
    "\n",
    "\n",
    "    def __call__(self):\n",
    "        \n",
    "            test_scores, _ = evaluate(\n",
    "                self.env,\n",
    "                self.policy,\n",
    "                self.num_test_episodes,  \n",
    "                self.show                             \n",
    "            )\n",
    "\n",
    "            auc_score = test_scores[self.config.reward_metric].sum(axis=1).mean() ##sum by row and then mean\n",
    "            if \"mse\" in self.config.reward_metric: #check if the string mse is in the  reward_metric string\n",
    "                auc_score *= -1\n",
    "            print(f\"The test score for the model was {auc_score}.\")\n",
    "\n"
   ]
  },
  {
   "cell_type": "code",
   "execution_count": null,
   "metadata": {
    "executionInfo": {
     "elapsed": 19,
     "status": "ok",
     "timestamp": 1669119884525,
     "user": {
      "displayName": "Ayayi AYILO",
      "userId": "01654688474303829088"
     },
     "user_tz": -60
    },
    "id": "OB5ylH4mhi6m"
   },
   "outputs": [],
   "source": []
  },
  {
   "cell_type": "code",
   "execution_count": 26,
   "metadata": {
    "executionInfo": {
     "elapsed": 201,
     "status": "ok",
     "timestamp": 1669131450740,
     "user": {
      "displayName": "Ayayi AYILO",
      "userId": "01654688474303829088"
     },
     "user_tz": -60
    },
    "id": "K8yonB13hwru"
   },
   "outputs": [],
   "source": [
    "def testing(config:Dict,show):\n",
    "\n",
    "    config = edict(config)\n",
    "\n",
    "    env = MnistReconsEnv(n_loops = config.num_loops_test_data,  \n",
    "                         device = config.device, \n",
    "                         reconstrutor_path = config.reconstrutor_path,\n",
    "                         kspace_shape = config.kspace_shape, num_parallel_episodes = config.num_parallel_episodes, \n",
    "                         nb_columns_preselected =config.nb_columns_preselected, \n",
    "                         budget = config.budget,   reward_metric = config.reward_metric,  \n",
    "                         mode =\"test\")\n",
    "        \n",
    "    tester = DDQNTester(env, config,show)\n",
    "    tester()"
   ]
  },
  {
   "cell_type": "code",
   "execution_count": null,
   "metadata": {
    "executionInfo": {
     "elapsed": 8,
     "status": "ok",
     "timestamp": 1669119884868,
     "user": {
      "displayName": "Ayayi AYILO",
      "userId": "01654688474303829088"
     },
     "user_tz": -60
    },
    "id": "RrBpMRx0vwm9"
   },
   "outputs": [],
   "source": []
  },
  {
   "cell_type": "markdown",
   "metadata": {
    "id": "wsoVuci3xSai"
   },
   "source": [
    "## Application"
   ]
  },
  {
   "cell_type": "code",
   "execution_count": 29,
   "metadata": {
    "executionInfo": {
     "elapsed": 331,
     "status": "ok",
     "timestamp": 1669128175192,
     "user": {
      "displayName": "Ayayi AYILO",
      "userId": "01654688474303829088"
     },
     "user_tz": -60
    },
    "id": "A3fF9KECvwqQ"
   },
   "outputs": [],
   "source": [
    "configuration = {\n",
    "    \"num_parallel_episodes\": 16, #\"images_per_episode\":1 ## equivalent to number of parallel episodes in pineda\n",
    "    \"budget\":5,###for reconstrution it is nb_columns_to_acquire by the dqn\n",
    "    \"nb_columns_preselected\":2,\n",
    "    \"num_loops_train_data\" : 2, #equivalent to number of epoch in supervised learning\n",
    "    \"num_loops_test_data\":1,\n",
    "    \"seed\" : 25,\n",
    "    \"replay_buffer_size\": 2000, #\"buffer_size\" :10000,\n",
    "    \"dqn_batch_size\":32, \n",
    "    \"gamma\":1.0, ## discount factor, dans ce cas de classification mnist, il n'y a pas de récompense à long terme, donc l'action courant est très valorisée\n",
    "    \"epsilon_decay\":0.996,\n",
    "    \"dqn_learning_rate\":1e-4,  #\"lr\":1e-4,\n",
    "    \"target_net_update_freq\": 400 , # How often (in env's steps) to update the target#\"target_network_update_freq\":1000, ##update the target network every `target_network_update_freq` steps\n",
    "    \n",
    "    \"dqn_burn_in\":200 , #\"learning_starts\"=10000, How many steps to do before starting updating parameters. \n",
    "    \"min_length_replay_buffer\":200,\n",
    "    \"dqn_only_test\":False,\n",
    "    \n",
    "    \"freq_dqn_checkpoint_save\":200,#How often (in episodes) to save the model\n",
    "    \"resume\":False,  #If true, will try to load weights from the checkpoints dir.\n",
    "    \n",
    "    \"reward_metric\":\"nmse\", \n",
    "          \n",
    "    \"epsilon_end\":0.01,#\"exploration_final_eps\":0.01,\n",
    "    \"epsilon_start\" : 1.0, #\"exploration_start_eps\":1.0,\n",
    "    \n",
    "    \"device\":\"cpu\",\n",
    "    \"checkpoints_dir\":\"./\", ##dqn_saving_path or loading path\n",
    "    \n",
    "    \"reconstrutor_path\": \"./single_line_mask_and_spirit.pt\", #this model was saved in the notebook \"C:/Users/jeane/Documents/Accelerating_MRI_with_DL_and_RL/Pytorch-MRI-ML-recon-V1.1/notebook_current_working_version_fft_norm_loss_norm/network_with_normalize_1D_mask_mnist.ipynb\"\n",
    "    \"kspace_shape\": (28,28)\n",
    "}\n",
    "\n"
   ]
  },
  {
   "cell_type": "code",
   "execution_count": null,
   "metadata": {
    "executionInfo": {
     "elapsed": 7,
     "status": "ok",
     "timestamp": 1669119884869,
     "user": {
      "displayName": "Ayayi AYILO",
      "userId": "01654688474303829088"
     },
     "user_tz": -60
    },
    "id": "LJ5jrgmAmkNS"
   },
   "outputs": [],
   "source": []
  },
  {
   "cell_type": "code",
   "execution_count": 37,
   "metadata": {
    "colab": {
     "base_uri": "https://localhost:8080/"
    },
    "executionInfo": {
     "elapsed": 55286,
     "status": "ok",
     "timestamp": 1669128277262,
     "user": {
      "displayName": "Ayayi AYILO",
      "userId": "01654688474303829088"
     },
     "user_tz": -60
    },
    "id": "O2h7-H7qxOIJ",
    "outputId": "29ccab29-d31d-4834-dded-3e3554496d9e"
   },
   "outputs": [
    {
     "name": "stdout",
     "output_type": "stream",
     "text": [
      "Running on cpu\n",
      "max on train data [223.76470686] \n",
      " min on train data [0.]\n",
      "Created replay buffer.\n",
      "Created neural networks with 28 outputs.\n",
      "Starting training at step 0/320. \n",
      "Episode 1/64\n",
      "episode_reward 0.17242863774299622 0\n",
      "average_reward_images_in_window 0.17242863774299622 0\n",
      "average_auc_score_in_window 2.067780017852783 0\n",
      "episode_reward 0.1800495833158493 1\n",
      "average_reward_images_in_window 0.17623911052942276 1\n",
      "average_auc_score_in_window 1.954234004020691 1\n",
      "episode_reward 0.15186196565628052 2\n",
      "average_reward_images_in_window 0.16811339557170868 2\n",
      "average_auc_score_in_window 1.8675649960835774 2\n",
      "episode_reward 0.19754663109779358 3\n",
      "average_reward_images_in_window 0.1754717044532299 3\n",
      "average_auc_score_in_window 1.8404043316841125 3\n",
      "episode_reward 0.2523318827152252 4\n",
      "average_reward_images_in_window 0.19084374010562896 4\n",
      "average_auc_score_in_window 1.764037561416626 4\n",
      "episode_reward 0.18724854290485382 5\n",
      "average_reward_images_in_window 0.19024454057216644 5\n",
      "average_auc_score_in_window 1.7100144227345784 5\n",
      "Episode 7/64\n",
      "episode_reward 0.22091378271579742 6\n",
      "average_reward_images_in_window 0.19462586087839945 6\n",
      "average_auc_score_in_window 1.7055954251970564 6\n",
      "episode_reward 0.12652376294136047 7\n",
      "average_reward_images_in_window 0.18611309863626957 7\n",
      "average_auc_score_in_window 1.6923029869794846 7\n",
      "episode_reward 0.1095900684595108 8\n",
      "average_reward_images_in_window 0.17761053972774082 8\n",
      "average_auc_score_in_window 1.7277048031489055 8\n",
      "episode_reward 0.10133500397205353 9\n",
      "average_reward_images_in_window 0.16998298615217208 9\n",
      "average_auc_score_in_window 1.7584397673606873 9\n",
      "episode_reward 0.16147840023040771 10\n",
      "average_reward_images_in_window 0.16920984197746625 10\n",
      "average_auc_score_in_window 1.7738925326954236 10\n",
      "episode_reward 0.13373570144176483 11\n",
      "average_reward_images_in_window 0.16625366359949112 11\n",
      "average_auc_score_in_window 1.784416635831197 11\n",
      "Episode 13/64\n",
      "episode_reward 0.10316304862499237 12\n",
      "average_reward_images_in_window 0.16140053937068352 12\n",
      "average_auc_score_in_window 1.7950360499895537 12\n",
      "episode_reward 0.11407478153705597 13\n",
      "average_reward_images_in_window 0.15802012809685298 13\n",
      "average_auc_score_in_window 1.8027027675083704 13\n",
      "episode_reward 0.09001423418521881 14\n",
      "average_reward_images_in_window 0.15348640183607737 14\n",
      "average_auc_score_in_window 1.8133253733317056 14\n",
      "episode_reward 0.10966575145721436 15\n",
      "average_reward_images_in_window 0.15074761118739843 15\n",
      "average_auc_score_in_window 1.8054071366786957 15\n",
      "episode_reward 0.12736356258392334 16\n",
      "average_reward_images_in_window 0.14937207891660578 16\n",
      "average_auc_score_in_window 1.8172149658203125 16\n",
      "episode_reward 0.16483743488788605 17\n",
      "average_reward_images_in_window 0.1502312653594547 17\n",
      "average_auc_score_in_window 1.8195849789513483 17\n",
      "Episode 19/64\n",
      "episode_reward 0.08585260063409805 18\n",
      "average_reward_images_in_window 0.1468429145844359 18\n",
      "average_auc_score_in_window 1.8232932592693127 18\n",
      "episode_reward 0.14379072189331055 19\n",
      "average_reward_images_in_window 0.14669030494987964 19\n",
      "average_auc_score_in_window 1.8347797989845276 19\n",
      "episode_reward 0.17901745438575745 20\n",
      "average_reward_images_in_window 0.14822969301825478 20\n",
      "average_auc_score_in_window 1.8381229411988032 20\n",
      "episode_reward 0.1762719750404358 21\n",
      "average_reward_images_in_window 0.1495043422010812 21\n",
      "average_auc_score_in_window 1.8423523469404741 21\n",
      "episode_reward 0.18151551485061646 22\n",
      "average_reward_images_in_window 0.15089613231627838 22\n",
      "average_auc_score_in_window 1.847385339114977 22\n",
      "episode_reward 0.17246827483177185 23\n",
      "average_reward_images_in_window 0.15179497158775726 23\n",
      "average_auc_score_in_window 1.860968644420306 23\n",
      "Episode 25/64\n",
      "episode_reward 0.10935880243778229 24\n",
      "average_reward_images_in_window 0.15009752482175828 24\n",
      "average_auc_score_in_window 1.8623905420303344 24\n",
      "episode_reward 0.13430571556091309 25\n",
      "average_reward_images_in_window 0.14949014754249498 25\n",
      "average_auc_score_in_window 1.867159141944005 25\n",
      "episode_reward 0.11947236210107803 26\n",
      "average_reward_images_in_window 0.14837837771133142 26\n",
      "average_auc_score_in_window 1.8640269835789998 26\n",
      "episode_reward 0.14319586753845215 27\n",
      "average_reward_images_in_window 0.1481932880623 27\n",
      "average_auc_score_in_window 1.8628588701997484 27\n",
      "episode_reward 0.12361419945955276 28\n",
      "average_reward_images_in_window 0.14734573328289494 28\n",
      "average_auc_score_in_window 1.859949309250404 28\n",
      "episode_reward 0.10621218383312225 29\n",
      "average_reward_images_in_window 0.1459746149679025 29\n",
      "average_auc_score_in_window 1.8546370665232341 29\n",
      "Episode 31/64\n",
      "episode_reward 0.12169567495584488 30\n",
      "average_reward_images_in_window 0.14519142335461033 30\n",
      "average_auc_score_in_window 1.8568169839920536 30\n",
      "episode_reward 0.12308048456907272 31\n",
      "average_reward_images_in_window 0.14450045651756227 31\n",
      "average_auc_score_in_window 1.8546550869941711 31\n",
      "episode_reward 0.1422637403011322 32\n",
      "average_reward_images_in_window 0.14443267723827652 32\n",
      "average_auc_score_in_window 1.8552086064309785 32\n",
      "episode_reward 0.1285896599292755 33\n",
      "average_reward_images_in_window 0.14396670614095294 33\n",
      "average_auc_score_in_window 1.856729970258825 33\n",
      "episode_reward 0.17081111669540405 34\n",
      "average_reward_images_in_window 0.14473368929965155 34\n",
      "average_auc_score_in_window 1.8499280657087054 34\n",
      "episode_reward 0.12273047864437103 35\n",
      "average_reward_images_in_window 0.14412248900367153 35\n",
      "average_auc_score_in_window 1.8478091491593256 35\n",
      "Episode 37/64\n",
      "episode_reward 0.11279091984033585 36\n",
      "average_reward_images_in_window 0.1432756898370949 36\n",
      "average_auc_score_in_window 1.84929861893525 36\n",
      "episode_reward 0.1661096215248108 37\n",
      "average_reward_images_in_window 0.14387658277624532 37\n",
      "average_auc_score_in_window 1.8502397599973177 37\n",
      "episode_reward 0.1298341155052185 38\n",
      "average_reward_images_in_window 0.14351651951288566 38\n",
      "average_auc_score_in_window 1.8517140241769643 38\n",
      "episode_reward 0.12419389188289642 39\n",
      "average_reward_images_in_window 0.14303345382213592 39\n",
      "average_auc_score_in_window 1.8502524197101593 39\n",
      "episode_reward 0.11103962361812592 40\n",
      "average_reward_images_in_window 0.1422531165000869 40\n",
      "average_auc_score_in_window 1.850196922697672 40\n",
      "episode_reward 0.14069342613220215 41\n",
      "average_reward_images_in_window 0.14221598101513727 41\n",
      "average_auc_score_in_window 1.8573362060955592 41\n",
      "Episode 43/64\n",
      "episode_reward 0.11080539226531982 42\n",
      "average_reward_images_in_window 0.14148550220700198 42\n",
      "average_auc_score_in_window 1.8619632748670356 42\n",
      "episode_reward 0.15290020406246185 43\n",
      "average_reward_images_in_window 0.1417449272491715 43\n",
      "average_auc_score_in_window 1.8583588843995875 43\n",
      "episode_reward 0.19928260147571564 44\n",
      "average_reward_images_in_window 0.1430235422319836 44\n",
      "average_auc_score_in_window 1.8547197977701824 44\n",
      "episode_reward 0.15324661135673523 45\n",
      "average_reward_images_in_window 0.14324578286513037 45\n",
      "average_auc_score_in_window 1.852146723996038 45\n",
      "episode_reward 0.16341567039489746 46\n",
      "average_reward_images_in_window 0.14367492940831691 46\n",
      "average_auc_score_in_window 1.8546985184892695 46\n",
      "episode_reward 0.13703083992004395 47\n",
      "average_reward_images_in_window 0.14353651087731123 47\n",
      "average_auc_score_in_window 1.855833242336909 47\n",
      "Episode 49/64\n",
      "episode_reward 0.1383320540189743 48\n",
      "average_reward_images_in_window 0.14343029747203906 48\n",
      "average_auc_score_in_window 1.8580719816441438 48\n",
      "epsilon 0.01 250\n",
      "loss tensor(0.0378, grad_fn=<SmoothL1LossBackward0>) 250\n",
      "grad_norm 1.7330655299960518 250\n",
      "mean_q_value 0.31612998 250\n",
      "episode_reward 0.1052684634923935 49\n",
      "average_reward_images_in_window 0.14266706079244615 49\n",
      "average_auc_score_in_window 1.862036530971527 49\n",
      "episode_reward 0.13977912068367004 50\n",
      "average_reward_images_in_window 0.14261043451580346 50\n",
      "average_auc_score_in_window 1.8568876794740266 50\n",
      "episode_reward 0.19124387204647064 51\n",
      "average_reward_images_in_window 0.14354569292985475 51\n",
      "average_auc_score_in_window 1.854824274778366 51\n",
      "episode_reward 0.14834484457969666 52\n",
      "average_reward_images_in_window 0.14363624296098385 52\n",
      "average_auc_score_in_window 1.8514048985715181 52\n",
      "episode_reward 0.17178648710250854 53\n",
      "average_reward_images_in_window 0.1441575437784195 53\n",
      "average_auc_score_in_window 1.8488658799065485 53\n",
      "Episode 55/64\n",
      "episode_reward 0.19319480657577515 54\n",
      "average_reward_images_in_window 0.14504913037473505 54\n",
      "average_auc_score_in_window 1.847389403256503 54\n"
     ]
    },
    {
     "name": "stdout",
     "output_type": "stream",
     "text": [
      "episode_reward 0.12321414053440094 55\n",
      "average_reward_images_in_window 0.14465921984187194 55\n",
      "average_auc_score_in_window 1.8521180152893066 55\n",
      "episode_reward 0.14482665061950684 56\n",
      "average_reward_images_in_window 0.14466215722393572 56\n",
      "average_auc_score_in_window 1.8498623914885939 56\n",
      "episode_reward 0.1421581655740738 57\n",
      "average_reward_images_in_window 0.14461898495411052 57\n",
      "average_auc_score_in_window 1.8499035794159462 57\n",
      "episode_reward 0.16074097156524658 58\n",
      "average_reward_images_in_window 0.14489223896446873 58\n",
      "average_auc_score_in_window 1.848286159967972 58\n",
      "episode_reward 0.15947827696800232 59\n",
      "average_reward_images_in_window 0.14513533959786099 59\n",
      "average_auc_score_in_window 1.8471131841341655 59\n",
      "Episode 61/64\n",
      "episode_reward 0.17484134435653687 60\n",
      "average_reward_images_in_window 0.14562232328242944 60\n",
      "average_auc_score_in_window 1.8476159181751188 60\n",
      "episode_reward 0.10558321326971054 61\n",
      "average_reward_images_in_window 0.1449765311854501 61\n",
      "average_auc_score_in_window 1.8528267452793736 61\n",
      "episode_reward 0.14741307497024536 62\n",
      "average_reward_images_in_window 0.14501520648362146 62\n",
      "average_auc_score_in_window 1.8544083474174378 62\n",
      "episode_reward 0.0930437371134758 63\n",
      "average_reward_images_in_window 0.14420315227471292 63\n",
      "average_auc_score_in_window 1.8553819954395294 63\n"
     ]
    }
   ],
   "source": [
    "training(configuration)"
   ]
  },
  {
   "cell_type": "code",
   "execution_count": 40,
   "metadata": {
    "colab": {
     "base_uri": "https://localhost:8080/",
     "height": 798
    },
    "executionInfo": {
     "elapsed": 2326,
     "status": "ok",
     "timestamp": 1669131635306,
     "user": {
      "displayName": "Ayayi AYILO",
      "userId": "01654688474303829088"
     },
     "user_tz": -60
    },
    "id": "GfpOSd-uxOQN",
    "outputId": "81627cc1-5ec2-4cd6-c646-a10f4d1c2b54"
   },
   "outputs": [
    {
     "name": "stdout",
     "output_type": "stream",
     "text": [
      "Running on cpu\n",
      "max on train data [223.76470686] \n",
      " min on train data [0.]\n",
      "The test score for the model was -1.9783829306584917.\n"
     ]
    },
    {
     "data": {
      "image/png": "[encoded data removed]",
      "text/plain": [
       "<Figure size 1080x432 with 9 Axes>"
      ]
     },
     "metadata": {
      "needs_background": "light"
     },
     "output_type": "display_data"
    },
    {
     "data": {
      "image/png": "[encoded data removed]",
      "text/plain": [
       "<Figure size 1080x432 with 9 Axes>"
      ]
     },
     "metadata": {
      "needs_background": "light"
     },
     "output_type": "display_data"
    }
   ],
   "source": [
    "\n",
    "testing(configuration,show=\"non_sequential_plot\")"
   ]
  },
  {
   "cell_type": "code",
   "execution_count": 41,
   "metadata": {
    "colab": {
     "base_uri": "https://localhost:8080/",
     "height": 1000
    },
    "executionInfo": {
     "elapsed": 4836,
     "status": "ok",
     "timestamp": 1669131771013,
     "user": {
      "displayName": "Ayayi AYILO",
      "userId": "01654688474303829088"
     },
     "user_tz": -60
    },
    "id": "tgBVozRbAByA",
    "outputId": "0e429b8a-84cb-42f6-db73-51b83f992e6f"
   },
   "outputs": [
    {
     "name": "stdout",
     "output_type": "stream",
     "text": [
      "Running on cpu\n",
      "max on train data [223.76470686] \n",
      " min on train data [0.]\n"
     ]
    },
    {
     "data": {
      "image/png": "[encoded data removed]",
      "text/plain": [
       "<Figure size 1080x432 with 9 Axes>"
      ]
     },
     "metadata": {
      "needs_background": "light"
     },
     "output_type": "display_data"
    },
    {
     "data": {
      "image/png": "[encoded data removed]",
      "text/plain": [
       "<Figure size 720x432 with 6 Axes>"
      ]
     },
     "metadata": {
      "needs_background": "light"
     },
     "output_type": "display_data"
    },
    {
     "data": {
      "image/png": "[encoded data removed]",
      "text/plain": [
       "<Figure size 720x432 with 6 Axes>"
      ]
     },
     "metadata": {
      "needs_background": "light"
     },
     "output_type": "display_data"
    },
    {
     "data": {
      "image/png": "[encoded data removed]",
      "text/plain": [
       "<Figure size 720x432 with 6 Axes>"
      ]
     },
     "metadata": {
      "needs_background": "light"
     },
     "output_type": "display_data"
    },
    {
     "data": {
      "image/png": "[encoded data removed]",
      "text/plain": [
       "<Figure size 720x432 with 6 Axes>"
      ]
     },
     "metadata": {
      "needs_background": "light"
     },
     "output_type": "display_data"
    },
    {
     "data": {
      "image/png": "[encoded data removed]",
      "text/plain": [
       "<Figure size 720x432 with 6 Axes>"
      ]
     },
     "metadata": {
      "needs_background": "light"
     },
     "output_type": "display_data"
    },
    {
     "data": {
      "image/png": "[encoded data removed]",
      "text/plain": [
       "<Figure size 1080x432 with 9 Axes>"
      ]
     },
     "metadata": {
      "needs_background": "light"
     },
     "output_type": "display_data"
    },
    {
     "data": {
      "image/png": "[encoded data removed]",
      "text/plain": [
       "<Figure size 720x432 with 6 Axes>"
      ]
     },
     "metadata": {
      "needs_background": "light"
     },
     "output_type": "display_data"
    },
    {
     "data": {
      "image/png": "[encoded data removed]",
      "text/plain": [
       "<Figure size 720x432 with 6 Axes>"
      ]
     },
     "metadata": {
      "needs_background": "light"
     },
     "output_type": "display_data"
    },
    {
     "data": {
      "image/png": "[encoded data removed]",
      "text/plain": [
       "<Figure size 720x432 with 6 Axes>"
      ]
     },
     "metadata": {
      "needs_background": "light"
     },
     "output_type": "display_data"
    },
    {
     "data": {
      "image/png": "[encoded data removed]",
      "text/plain": [
       "<Figure size 720x432 with 6 Axes>"
      ]
     },
     "metadata": {
      "needs_background": "light"
     },
     "output_type": "display_data"
    },
    {
     "data": {
      "image/png": "[encoded data removed]",
      "text/plain": [
       "<Figure size 720x432 with 6 Axes>"
      ]
     },
     "metadata": {
      "needs_background": "light"
     },
     "output_type": "display_data"
    },
    {
     "name": "stdout",
     "output_type": "stream",
     "text": [
      "The test score for the model was -1.9783829306584917.\n"
     ]
    }
   ],
   "source": [
    "testing(configuration,show=\"sequential_plot\")\n",
    "## Mardi 22 Novembre 16h42"
   ]
  }
 ],
 "metadata": {
  "colab": {
   "provenance": []
  },
  "kernelspec": {
   "display_name": "Python 3",
   "language": "python",
   "name": "python3"
  },
  "language_info": {
   "codemirror_mode": {
    "name": "ipython",
    "version": 3
   },
   "file_extension": ".py",
   "mimetype": "text/x-python",
   "name": "python",
   "nbconvert_exporter": "python",
   "pygments_lexer": "ipython3",
   "version": "3.8.3"
  }
 },
 "nbformat": 4,
 "nbformat_minor": 1
}
