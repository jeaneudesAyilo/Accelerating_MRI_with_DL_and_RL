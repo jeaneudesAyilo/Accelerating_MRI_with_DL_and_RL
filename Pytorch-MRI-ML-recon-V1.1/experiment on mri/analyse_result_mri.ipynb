{
 "cells": [
  {
   "cell_type": "code",
   "execution_count": 1,
   "metadata": {},
   "outputs": [],
   "source": [
    "import pandas as pd\n",
    "import matplotlib.pyplot as plt\n",
    "import re\n",
    "import itertools\n"
   ]
  },
  {
   "cell_type": "code",
   "execution_count": 2,
   "metadata": {},
   "outputs": [],
   "source": [
    "##load the collected results\n",
    "general_grid_search_result_df_learned = pd.read_csv(\"D:/result_mri_experiment/general_grid_search_result_df_learned.csv\", sep =\"\\t\")\n",
    "general_grid_search_result_df_fixed = pd.read_csv(\"D:/result_mri_experiment/general_grid_search_result_df_fixed.csv\", sep =\"\\t\")\n",
    "\n",
    "best_result_df_learned = pd.read_csv(\"D:/result_mri_experiment/best_result_df_learned.csv\", sep =\"\\t\")\n",
    "best_result_df_fixed = pd.read_csv(\"D:/result_mri_experiment/best_result_df_fixed.csv\", sep =\"\\t\")\n",
    "\n",
    "\n"
   ]
  },
  {
   "cell_type": "code",
   "execution_count": 4,
   "metadata": {},
   "outputs": [],
   "source": [
    "##remove column where there are unnamed0...\n",
    "r = re.compile(\"Unnamed.*\") \n",
    "\n",
    "for df in [general_grid_search_result_df_learned, general_grid_search_result_df_fixed, best_result_df_learned, best_result_df_fixed]:\n",
    "    \n",
    "    newlist = list(filter(r.match, df.columns)) # Read Note\n",
    "    \n",
    "    df.drop(newlist, inplace=True, axis=1)"
   ]
  },
  {
   "cell_type": "code",
   "execution_count": null,
   "metadata": {},
   "outputs": [],
   "source": []
  },
  {
   "cell_type": "markdown",
   "metadata": {},
   "source": [
    "# <font color='darkblue'> Analyse learned mask result"
   ]
  },
  {
   "cell_type": "code",
   "execution_count": 6,
   "metadata": {},
   "outputs": [
    {
     "data": {
      "text/html": [
       "<div>\n",
       "<style scoped>\n",
       "    .dataframe tbody tr th:only-of-type {\n",
       "        vertical-align: middle;\n",
       "    }\n",
       "\n",
       "    .dataframe tbody tr th {\n",
       "        vertical-align: top;\n",
       "    }\n",
       "\n",
       "    .dataframe thead th {\n",
       "        text-align: right;\n",
       "    }\n",
       "</style>\n",
       "<table border=\"1\" class=\"dataframe\">\n",
       "  <thead>\n",
       "    <tr style=\"text-align: right;\">\n",
       "      <th></th>\n",
       "      <th>mask_dim</th>\n",
       "      <th>acs_type</th>\n",
       "      <th>acc</th>\n",
       "      <th>bloc</th>\n",
       "      <th>kernel</th>\n",
       "      <th>std_noise</th>\n",
       "      <th>lr_mask</th>\n",
       "      <th>lr_other</th>\n",
       "      <th>test_ssim</th>\n",
       "      <th>test_psnr</th>\n",
       "      <th>test_loss</th>\n",
       "      <th>test_loss_denorm</th>\n",
       "    </tr>\n",
       "  </thead>\n",
       "  <tbody>\n",
       "    <tr>\n",
       "      <th>0</th>\n",
       "      <td>[121, 145]</td>\n",
       "      <td>square</td>\n",
       "      <td>0.125</td>\n",
       "      <td>1</td>\n",
       "      <td>[11, 11]</td>\n",
       "      <td>0.0175</td>\n",
       "      <td>0.010</td>\n",
       "      <td>0.0001</td>\n",
       "      <td>0.615953</td>\n",
       "      <td>22.267923</td>\n",
       "      <td>0.072610</td>\n",
       "      <td>2.310962e-09</td>\n",
       "    </tr>\n",
       "    <tr>\n",
       "      <th>1</th>\n",
       "      <td>[121, 145]</td>\n",
       "      <td>no</td>\n",
       "      <td>0.125</td>\n",
       "      <td>1</td>\n",
       "      <td>[11, 11]</td>\n",
       "      <td>0.0175</td>\n",
       "      <td>0.001</td>\n",
       "      <td>0.0100</td>\n",
       "      <td>0.476863</td>\n",
       "      <td>17.680638</td>\n",
       "      <td>0.176394</td>\n",
       "      <td>6.299534e-09</td>\n",
       "    </tr>\n",
       "    <tr>\n",
       "      <th>2</th>\n",
       "      <td>[121, 145]</td>\n",
       "      <td>no</td>\n",
       "      <td>0.125</td>\n",
       "      <td>1</td>\n",
       "      <td>[11, 11]</td>\n",
       "      <td>0.0175</td>\n",
       "      <td>0.010</td>\n",
       "      <td>0.0001</td>\n",
       "      <td>0.314183</td>\n",
       "      <td>16.057201</td>\n",
       "      <td>0.344214</td>\n",
       "      <td>1.209705e-08</td>\n",
       "    </tr>\n",
       "    <tr>\n",
       "      <th>3</th>\n",
       "      <td>[121, 145]</td>\n",
       "      <td>no</td>\n",
       "      <td>0.125</td>\n",
       "      <td>1</td>\n",
       "      <td>[11, 11]</td>\n",
       "      <td>0.0175</td>\n",
       "      <td>0.001</td>\n",
       "      <td>0.0010</td>\n",
       "      <td>0.647924</td>\n",
       "      <td>24.931016</td>\n",
       "      <td>0.046984</td>\n",
       "      <td>1.349451e-09</td>\n",
       "    </tr>\n",
       "    <tr>\n",
       "      <th>4</th>\n",
       "      <td>[121, 145]</td>\n",
       "      <td>square</td>\n",
       "      <td>0.125</td>\n",
       "      <td>1</td>\n",
       "      <td>[11, 11]</td>\n",
       "      <td>0.0175</td>\n",
       "      <td>0.010</td>\n",
       "      <td>0.0010</td>\n",
       "      <td>0.675561</td>\n",
       "      <td>25.251880</td>\n",
       "      <td>0.044530</td>\n",
       "      <td>1.311514e-09</td>\n",
       "    </tr>\n",
       "  </tbody>\n",
       "</table>\n",
       "</div>"
      ],
      "text/plain": [
       "     mask_dim acs_type    acc  bloc    kernel  std_noise  lr_mask  lr_other  \\\n",
       "0  [121, 145]   square  0.125     1  [11, 11]     0.0175    0.010    0.0001   \n",
       "1  [121, 145]       no  0.125     1  [11, 11]     0.0175    0.001    0.0100   \n",
       "2  [121, 145]       no  0.125     1  [11, 11]     0.0175    0.010    0.0001   \n",
       "3  [121, 145]       no  0.125     1  [11, 11]     0.0175    0.001    0.0010   \n",
       "4  [121, 145]   square  0.125     1  [11, 11]     0.0175    0.010    0.0010   \n",
       "\n",
       "   test_ssim  test_psnr  test_loss  test_loss_denorm  \n",
       "0   0.615953  22.267923   0.072610      2.310962e-09  \n",
       "1   0.476863  17.680638   0.176394      6.299534e-09  \n",
       "2   0.314183  16.057201   0.344214      1.209705e-08  \n",
       "3   0.647924  24.931016   0.046984      1.349451e-09  \n",
       "4   0.675561  25.251880   0.044530      1.311514e-09  "
      ]
     },
     "execution_count": 6,
     "metadata": {},
     "output_type": "execute_result"
    }
   ],
   "source": [
    "general_grid_search_result_df_learned.head()\n"
   ]
  },
  {
   "cell_type": "code",
   "execution_count": 8,
   "metadata": {
    "collapsed": true
   },
   "outputs": [
    {
     "data": {
      "text/html": [
       "<div>\n",
       "<style scoped>\n",
       "    .dataframe tbody tr th:only-of-type {\n",
       "        vertical-align: middle;\n",
       "    }\n",
       "\n",
       "    .dataframe tbody tr th {\n",
       "        vertical-align: top;\n",
       "    }\n",
       "\n",
       "    .dataframe thead th {\n",
       "        text-align: right;\n",
       "    }\n",
       "</style>\n",
       "<table border=\"1\" class=\"dataframe\">\n",
       "  <thead>\n",
       "    <tr style=\"text-align: right;\">\n",
       "      <th></th>\n",
       "      <th>mask_dim</th>\n",
       "      <th>acs_type</th>\n",
       "      <th>acc</th>\n",
       "      <th>bloc</th>\n",
       "      <th>kernel</th>\n",
       "      <th>std_noise</th>\n",
       "      <th>lr_mask</th>\n",
       "      <th>lr_other</th>\n",
       "      <th>test_ssim</th>\n",
       "      <th>test_psnr</th>\n",
       "      <th>test_loss</th>\n",
       "      <th>test_loss_denorm</th>\n",
       "    </tr>\n",
       "  </thead>\n",
       "  <tbody>\n",
       "    <tr>\n",
       "      <th>0</th>\n",
       "      <td>[4, 4]</td>\n",
       "      <td>square</td>\n",
       "      <td>0.125</td>\n",
       "      <td>1</td>\n",
       "      <td>[11, 11]</td>\n",
       "      <td>0.0175</td>\n",
       "      <td>0.010</td>\n",
       "      <td>0.0100</td>\n",
       "      <td>1.0</td>\n",
       "      <td>inf</td>\n",
       "      <td>0.0</td>\n",
       "      <td>0.0</td>\n",
       "    </tr>\n",
       "    <tr>\n",
       "      <th>1</th>\n",
       "      <td>[4, 4]</td>\n",
       "      <td>square</td>\n",
       "      <td>0.125</td>\n",
       "      <td>1</td>\n",
       "      <td>[11, 11]</td>\n",
       "      <td>0.0175</td>\n",
       "      <td>0.010</td>\n",
       "      <td>0.0010</td>\n",
       "      <td>1.0</td>\n",
       "      <td>inf</td>\n",
       "      <td>0.0</td>\n",
       "      <td>0.0</td>\n",
       "    </tr>\n",
       "    <tr>\n",
       "      <th>2</th>\n",
       "      <td>[4, 4]</td>\n",
       "      <td>square</td>\n",
       "      <td>0.125</td>\n",
       "      <td>1</td>\n",
       "      <td>[11, 11]</td>\n",
       "      <td>0.0175</td>\n",
       "      <td>0.001</td>\n",
       "      <td>0.0100</td>\n",
       "      <td>1.0</td>\n",
       "      <td>inf</td>\n",
       "      <td>0.0</td>\n",
       "      <td>0.0</td>\n",
       "    </tr>\n",
       "    <tr>\n",
       "      <th>3</th>\n",
       "      <td>[4, 4]</td>\n",
       "      <td>square</td>\n",
       "      <td>0.125</td>\n",
       "      <td>1</td>\n",
       "      <td>[11, 11]</td>\n",
       "      <td>0.0175</td>\n",
       "      <td>0.010</td>\n",
       "      <td>0.0001</td>\n",
       "      <td>1.0</td>\n",
       "      <td>inf</td>\n",
       "      <td>0.0</td>\n",
       "      <td>0.0</td>\n",
       "    </tr>\n",
       "    <tr>\n",
       "      <th>4</th>\n",
       "      <td>[4, 4]</td>\n",
       "      <td>square</td>\n",
       "      <td>0.125</td>\n",
       "      <td>1</td>\n",
       "      <td>[11, 11]</td>\n",
       "      <td>0.0175</td>\n",
       "      <td>0.001</td>\n",
       "      <td>0.0010</td>\n",
       "      <td>1.0</td>\n",
       "      <td>inf</td>\n",
       "      <td>0.0</td>\n",
       "      <td>0.0</td>\n",
       "    </tr>\n",
       "  </tbody>\n",
       "</table>\n",
       "</div>"
      ],
      "text/plain": [
       "  mask_dim acs_type    acc  bloc    kernel  std_noise  lr_mask  lr_other  \\\n",
       "0   [4, 4]   square  0.125     1  [11, 11]     0.0175    0.010    0.0100   \n",
       "1   [4, 4]   square  0.125     1  [11, 11]     0.0175    0.010    0.0010   \n",
       "2   [4, 4]   square  0.125     1  [11, 11]     0.0175    0.001    0.0100   \n",
       "3   [4, 4]   square  0.125     1  [11, 11]     0.0175    0.010    0.0001   \n",
       "4   [4, 4]   square  0.125     1  [11, 11]     0.0175    0.001    0.0010   \n",
       "\n",
       "   test_ssim  test_psnr  test_loss  test_loss_denorm  \n",
       "0        1.0        inf        0.0               0.0  \n",
       "1        1.0        inf        0.0               0.0  \n",
       "2        1.0        inf        0.0               0.0  \n",
       "3        1.0        inf        0.0               0.0  \n",
       "4        1.0        inf        0.0               0.0  "
      ]
     },
     "execution_count": 8,
     "metadata": {},
     "output_type": "execute_result"
    }
   ],
   "source": [
    "best_result_df_learned.head()"
   ]
  },
  {
   "cell_type": "code",
   "execution_count": 9,
   "metadata": {},
   "outputs": [
    {
     "data": {
      "text/plain": [
       "660"
      ]
     },
     "execution_count": 9,
     "metadata": {},
     "output_type": "execute_result"
    }
   ],
   "source": [
    "len(general_grid_search_result_df_learned)"
   ]
  },
  {
   "cell_type": "code",
   "execution_count": 10,
   "metadata": {},
   "outputs": [
    {
     "data": {
      "text/plain": [
       "False"
      ]
     },
     "execution_count": 10,
     "metadata": {},
     "output_type": "execute_result"
    }
   ],
   "source": [
    "general_grid_search_result_df_learned.isnull().values.any()"
   ]
  },
  {
   "cell_type": "code",
   "execution_count": null,
   "metadata": {},
   "outputs": [],
   "source": []
  },
  {
   "cell_type": "code",
   "execution_count": 23,
   "metadata": {},
   "outputs": [
    {
     "data": {
      "text/html": [
       "<div>\n",
       "<style scoped>\n",
       "    .dataframe tbody tr th:only-of-type {\n",
       "        vertical-align: middle;\n",
       "    }\n",
       "\n",
       "    .dataframe tbody tr th {\n",
       "        vertical-align: top;\n",
       "    }\n",
       "\n",
       "    .dataframe thead th {\n",
       "        text-align: right;\n",
       "    }\n",
       "</style>\n",
       "<table border=\"1\" class=\"dataframe\">\n",
       "  <thead>\n",
       "    <tr style=\"text-align: right;\">\n",
       "      <th></th>\n",
       "      <th>acs_type</th>\n",
       "      <th>mask_typ</th>\n",
       "      <th>mask_seed</th>\n",
       "      <th>mask_dim</th>\n",
       "      <th>bloc</th>\n",
       "      <th>kernel</th>\n",
       "      <th>lr_other</th>\n",
       "      <th>test_ssim</th>\n",
       "      <th>test_psnr</th>\n",
       "      <th>test_loss</th>\n",
       "      <th>test_loss_denorm</th>\n",
       "    </tr>\n",
       "  </thead>\n",
       "  <tbody>\n",
       "    <tr>\n",
       "      <th>0</th>\n",
       "      <td>no</td>\n",
       "      <td>caipiranha</td>\n",
       "      <td>42083</td>\n",
       "      <td>[4, 4]</td>\n",
       "      <td>1</td>\n",
       "      <td>[13, 13]</td>\n",
       "      <td>0.010</td>\n",
       "      <td>0.985945</td>\n",
       "      <td>47.768835</td>\n",
       "      <td>0.001263</td>\n",
       "      <td>1.170915e-11</td>\n",
       "    </tr>\n",
       "    <tr>\n",
       "      <th>1</th>\n",
       "      <td>no</td>\n",
       "      <td>caipiranha</td>\n",
       "      <td>42083</td>\n",
       "      <td>[4, 4]</td>\n",
       "      <td>1</td>\n",
       "      <td>[11, 11]</td>\n",
       "      <td>0.010</td>\n",
       "      <td>0.985135</td>\n",
       "      <td>46.723226</td>\n",
       "      <td>0.001165</td>\n",
       "      <td>1.277807e-11</td>\n",
       "    </tr>\n",
       "    <tr>\n",
       "      <th>2</th>\n",
       "      <td>square</td>\n",
       "      <td>caipiranha</td>\n",
       "      <td>42083</td>\n",
       "      <td>[4, 4]</td>\n",
       "      <td>1</td>\n",
       "      <td>[13, 13]</td>\n",
       "      <td>0.010</td>\n",
       "      <td>0.929553</td>\n",
       "      <td>40.102094</td>\n",
       "      <td>0.003501</td>\n",
       "      <td>5.314355e-11</td>\n",
       "    </tr>\n",
       "    <tr>\n",
       "      <th>3</th>\n",
       "      <td>square</td>\n",
       "      <td>caipiranha</td>\n",
       "      <td>42083</td>\n",
       "      <td>[4, 4]</td>\n",
       "      <td>1</td>\n",
       "      <td>[11, 11]</td>\n",
       "      <td>0.010</td>\n",
       "      <td>0.931190</td>\n",
       "      <td>41.470164</td>\n",
       "      <td>0.002750</td>\n",
       "      <td>4.776669e-11</td>\n",
       "    </tr>\n",
       "    <tr>\n",
       "      <th>4</th>\n",
       "      <td>no</td>\n",
       "      <td>caipiranha</td>\n",
       "      <td>42083</td>\n",
       "      <td>[4, 4]</td>\n",
       "      <td>1</td>\n",
       "      <td>[11, 11]</td>\n",
       "      <td>0.001</td>\n",
       "      <td>0.991499</td>\n",
       "      <td>47.719265</td>\n",
       "      <td>0.000606</td>\n",
       "      <td>8.804585e-12</td>\n",
       "    </tr>\n",
       "  </tbody>\n",
       "</table>\n",
       "</div>"
      ],
      "text/plain": [
       "  acs_type    mask_typ  mask_seed mask_dim  bloc    kernel  lr_other  \\\n",
       "0       no  caipiranha      42083   [4, 4]     1  [13, 13]     0.010   \n",
       "1       no  caipiranha      42083   [4, 4]     1  [11, 11]     0.010   \n",
       "2   square  caipiranha      42083   [4, 4]     1  [13, 13]     0.010   \n",
       "3   square  caipiranha      42083   [4, 4]     1  [11, 11]     0.010   \n",
       "4       no  caipiranha      42083   [4, 4]     1  [11, 11]     0.001   \n",
       "\n",
       "   test_ssim  test_psnr  test_loss  test_loss_denorm  \n",
       "0   0.985945  47.768835   0.001263      1.170915e-11  \n",
       "1   0.985135  46.723226   0.001165      1.277807e-11  \n",
       "2   0.929553  40.102094   0.003501      5.314355e-11  \n",
       "3   0.931190  41.470164   0.002750      4.776669e-11  \n",
       "4   0.991499  47.719265   0.000606      8.804585e-12  "
      ]
     },
     "execution_count": 23,
     "metadata": {},
     "output_type": "execute_result"
    }
   ],
   "source": [
    "general_grid_search_result_df_fixed.head()"
   ]
  },
  {
   "cell_type": "code",
   "execution_count": 21,
   "metadata": {},
   "outputs": [
    {
     "data": {
      "text/plain": [
       "778"
      ]
     },
     "execution_count": 21,
     "metadata": {},
     "output_type": "execute_result"
    }
   ],
   "source": [
    "len(general_grid_search_result_df_fixed)"
   ]
  },
  {
   "cell_type": "code",
   "execution_count": 22,
   "metadata": {},
   "outputs": [
    {
     "data": {
      "text/plain": [
       "False"
      ]
     },
     "execution_count": 22,
     "metadata": {},
     "output_type": "execute_result"
    }
   ],
   "source": [
    "general_grid_search_result_df_fixed.isnull().values.any()"
   ]
  },
  {
   "cell_type": "code",
   "execution_count": null,
   "metadata": {},
   "outputs": [],
   "source": []
  },
  {
   "cell_type": "code",
   "execution_count": null,
   "metadata": {},
   "outputs": [],
   "source": []
  },
  {
   "cell_type": "markdown",
   "metadata": {},
   "source": [
    "### boxplot_for each hyperparam\n"
   ]
  },
  {
   "cell_type": "code",
   "execution_count": 11,
   "metadata": {},
   "outputs": [],
   "source": [
    "def boxplot_hyper_single(df, hyperparam, metrics):\n",
    "    \n",
    "    for hyp in hyperparam:\n",
    "    \n",
    "        plt.figure()\n",
    "        \n",
    "        if len(metrics)>1:\n",
    "            fig, ax = plt.subplots(1,3,figsize=(10,8))\n",
    "            for i in range(len(metrics)):\n",
    "                df.boxplot(column=metrics[i], by = hyp,ax = ax[i])\n",
    "        \n",
    "        else :\n",
    "            fig, ax = plt.subplots(1,1,figsize=(5,4))\n",
    "            df.boxplot(column=metrics, by = hyp,ax = ax) \n",
    "\n"
   ]
  },
  {
   "cell_type": "code",
   "execution_count": 12,
   "metadata": {
    "collapsed": true
   },
   "outputs": [
    {
     "name": "stderr",
     "output_type": "stream",
     "text": [
      "C:\\Users\\jeane\\anaconda3\\lib\\site-packages\\numpy\\core\\_asarray.py:83: VisibleDeprecationWarning: Creating an ndarray from ragged nested sequences (which is a list-or-tuple of lists-or-tuples-or ndarrays with different lengths or shapes) is deprecated. If you meant to do this, you must specify 'dtype=object' when creating the ndarray\n",
      "  return array(a, dtype, copy=False, order=order)\n",
      "C:\\Users\\jeane\\anaconda3\\lib\\site-packages\\numpy\\core\\_asarray.py:83: VisibleDeprecationWarning: Creating an ndarray from ragged nested sequences (which is a list-or-tuple of lists-or-tuples-or ndarrays with different lengths or shapes) is deprecated. If you meant to do this, you must specify 'dtype=object' when creating the ndarray\n",
      "  return array(a, dtype, copy=False, order=order)\n",
      "C:\\Users\\jeane\\anaconda3\\lib\\site-packages\\numpy\\core\\_asarray.py:83: VisibleDeprecationWarning: Creating an ndarray from ragged nested sequences (which is a list-or-tuple of lists-or-tuples-or ndarrays with different lengths or shapes) is deprecated. If you meant to do this, you must specify 'dtype=object' when creating the ndarray\n",
      "  return array(a, dtype, copy=False, order=order)\n",
      "C:\\Users\\jeane\\anaconda3\\lib\\site-packages\\numpy\\core\\_asarray.py:83: VisibleDeprecationWarning: Creating an ndarray from ragged nested sequences (which is a list-or-tuple of lists-or-tuples-or ndarrays with different lengths or shapes) is deprecated. If you meant to do this, you must specify 'dtype=object' when creating the ndarray\n",
      "  return array(a, dtype, copy=False, order=order)\n",
      "C:\\Users\\jeane\\anaconda3\\lib\\site-packages\\numpy\\core\\_asarray.py:83: VisibleDeprecationWarning: Creating an ndarray from ragged nested sequences (which is a list-or-tuple of lists-or-tuples-or ndarrays with different lengths or shapes) is deprecated. If you meant to do this, you must specify 'dtype=object' when creating the ndarray\n",
      "  return array(a, dtype, copy=False, order=order)\n",
      "C:\\Users\\jeane\\anaconda3\\lib\\site-packages\\numpy\\core\\_asarray.py:83: VisibleDeprecationWarning: Creating an ndarray from ragged nested sequences (which is a list-or-tuple of lists-or-tuples-or ndarrays with different lengths or shapes) is deprecated. If you meant to do this, you must specify 'dtype=object' when creating the ndarray\n",
      "  return array(a, dtype, copy=False, order=order)\n"
     ]
    },
    {
     "data": {
      "text/plain": [
       "<Figure size 432x288 with 0 Axes>"
      ]
     },
     "metadata": {},
     "output_type": "display_data"
    },
    {
     "data": {
      "image/png": "[encoded data removed]",
      "text/plain": [
       "<Figure size 360x288 with 1 Axes>"
      ]
     },
     "metadata": {
      "needs_background": "light"
     },
     "output_type": "display_data"
    },
    {
     "data": {
      "text/plain": [
       "<Figure size 432x288 with 0 Axes>"
      ]
     },
     "metadata": {},
     "output_type": "display_data"
    },
    {
     "data": {
      "image/png": "[encoded data removed]",
      "text/plain": [
       "<Figure size 360x288 with 1 Axes>"
      ]
     },
     "metadata": {
      "needs_background": "light"
     },
     "output_type": "display_data"
    },
    {
     "data": {
      "text/plain": [
       "<Figure size 432x288 with 0 Axes>"
      ]
     },
     "metadata": {},
     "output_type": "display_data"
    },
    {
     "data": {
      "image/png": "[encoded data removed]",
      "text/plain": [
       "<Figure size 360x288 with 1 Axes>"
      ]
     },
     "metadata": {
      "needs_background": "light"
     },
     "output_type": "display_data"
    },
    {
     "data": {
      "text/plain": [
       "<Figure size 432x288 with 0 Axes>"
      ]
     },
     "metadata": {},
     "output_type": "display_data"
    },
    {
     "data": {
      "image/png": "[encoded data removed]",
      "text/plain": [
       "<Figure size 360x288 with 1 Axes>"
      ]
     },
     "metadata": {
      "needs_background": "light"
     },
     "output_type": "display_data"
    },
    {
     "data": {
      "text/plain": [
       "<Figure size 432x288 with 0 Axes>"
      ]
     },
     "metadata": {},
     "output_type": "display_data"
    },
    {
     "data": {
      "image/png": "[encoded data removed]",
      "text/plain": [
       "<Figure size 360x288 with 1 Axes>"
      ]
     },
     "metadata": {
      "needs_background": "light"
     },
     "output_type": "display_data"
    },
    {
     "data": {
      "text/plain": [
       "<Figure size 432x288 with 0 Axes>"
      ]
     },
     "metadata": {},
     "output_type": "display_data"
    },
    {
     "data": {
      "image/png": "[encoded data removed]",
      "text/plain": [
       "<Figure size 360x288 with 1 Axes>"
      ]
     },
     "metadata": {
      "needs_background": "light"
     },
     "output_type": "display_data"
    }
   ],
   "source": [
    "boxplot_hyper_single(general_grid_search_result_df_learned, \n",
    "                     hyperparam=['acc','bloc','kernel','std_noise','lr_mask','lr_other'], \n",
    "                     metrics=[\"test_ssim\"])"
   ]
  },
  {
   "cell_type": "markdown",
   "metadata": {},
   "source": [
    "### boxplot_hyper_pair\n"
   ]
  },
  {
   "cell_type": "code",
   "execution_count": 13,
   "metadata": {},
   "outputs": [],
   "source": [
    "def boxplot_hyper_pair(df, hyperparam, metrics, figsize =(10,6) ):\n",
    "    \n",
    "    for pair in itertools.combinations(hyperparam, r=2):\n",
    "    #print(list(pair))\n",
    "        \n",
    "        if len(metrics)>1:\n",
    "            fig, ax = plt.subplots(len(metrics),1,figsize=(20,18))\n",
    "            for i in range(len(metrics)):\n",
    "                df.boxplot(column=metrics[i], by = list(pair),ax = ax[i])\n",
    "        else :\n",
    "            fig, ax = plt.subplots(len(metrics),1,figsize=figsize)\n",
    "            #ax.set_ylim([0, 0.25])\n",
    "            df.boxplot(column=metrics, by = list(pair),ax = ax)\n",
    "        \n",
    "        return ax\n",
    "\n",
    "#https://stackoverflow.com/questions/942543/operation-on-every-pair-of-element-in-a-list            "
   ]
  },
  {
   "cell_type": "code",
   "execution_count": 14,
   "metadata": {
    "collapsed": true
   },
   "outputs": [
    {
     "name": "stderr",
     "output_type": "stream",
     "text": [
      "C:\\Users\\jeane\\anaconda3\\lib\\site-packages\\numpy\\core\\_asarray.py:83: VisibleDeprecationWarning: Creating an ndarray from ragged nested sequences (which is a list-or-tuple of lists-or-tuples-or ndarrays with different lengths or shapes) is deprecated. If you meant to do this, you must specify 'dtype=object' when creating the ndarray\n",
      "  return array(a, dtype, copy=False, order=order)\n"
     ]
    },
    {
     "data": {
      "text/plain": [
       "<matplotlib.axes._subplots.AxesSubplot at 0x18a396d2df0>"
      ]
     },
     "execution_count": 14,
     "metadata": {},
     "output_type": "execute_result"
    },
    {
     "data": {
      "image/png": "[encoded data removed]",
      "text/plain": [
       "<Figure size 1440x432 with 1 Axes>"
      ]
     },
     "metadata": {
      "needs_background": "light"
     },
     "output_type": "display_data"
    }
   ],
   "source": [
    "boxplot_hyper_pair(general_grid_search_result_df_learned.query('mask_dim == \"[4, 4]\"'), \n",
    "                   hyperparam=['acc','bloc','kernel','std_noise','lr_mask','lr_other'], \n",
    "                   metrics = [\"test_ssim\"],figsize =(20,6) )"
   ]
  },
  {
   "cell_type": "code",
   "execution_count": 15,
   "metadata": {
    "collapsed": true
   },
   "outputs": [
    {
     "ename": "ValueError",
     "evalue": "not enough values to unpack (expected 2, got 0)",
     "output_type": "error",
     "traceback": [
      "\u001b[1;31m---------------------------------------------------------------------------\u001b[0m",
      "\u001b[1;31mValueError\u001b[0m                                Traceback (most recent call last)",
      "\u001b[1;32m<ipython-input-15-aaf33d48a121>\u001b[0m in \u001b[0;36m<module>\u001b[1;34m\u001b[0m\n\u001b[1;32m----> 1\u001b[1;33m boxplot_hyper_pair(general_grid_search_result_df_learned.query('mask_dim == \"[28, 28]\"'), \n\u001b[0m\u001b[0;32m      2\u001b[0m                    \u001b[0mhyperparam\u001b[0m\u001b[1;33m=\u001b[0m\u001b[1;33m[\u001b[0m\u001b[1;34m'acc'\u001b[0m\u001b[1;33m,\u001b[0m\u001b[1;34m'bloc'\u001b[0m\u001b[1;33m,\u001b[0m\u001b[1;34m'kernel'\u001b[0m\u001b[1;33m,\u001b[0m\u001b[1;34m'std_noise'\u001b[0m\u001b[1;33m,\u001b[0m\u001b[1;34m'lr_mask'\u001b[0m\u001b[1;33m,\u001b[0m\u001b[1;34m'lr_other'\u001b[0m\u001b[1;33m]\u001b[0m\u001b[1;33m,\u001b[0m\u001b[1;33m\u001b[0m\u001b[1;33m\u001b[0m\u001b[0m\n\u001b[0;32m      3\u001b[0m                    metrics = [\"test_ssim\"])\n",
      "\u001b[1;32m<ipython-input-13-b8e530489663>\u001b[0m in \u001b[0;36mboxplot_hyper_pair\u001b[1;34m(df, hyperparam, metrics, figsize)\u001b[0m\n\u001b[0;32m     11\u001b[0m             \u001b[0mfig\u001b[0m\u001b[1;33m,\u001b[0m \u001b[0max\u001b[0m \u001b[1;33m=\u001b[0m \u001b[0mplt\u001b[0m\u001b[1;33m.\u001b[0m\u001b[0msubplots\u001b[0m\u001b[1;33m(\u001b[0m\u001b[0mlen\u001b[0m\u001b[1;33m(\u001b[0m\u001b[0mmetrics\u001b[0m\u001b[1;33m)\u001b[0m\u001b[1;33m,\u001b[0m\u001b[1;36m1\u001b[0m\u001b[1;33m,\u001b[0m\u001b[0mfigsize\u001b[0m\u001b[1;33m=\u001b[0m\u001b[0mfigsize\u001b[0m\u001b[1;33m)\u001b[0m\u001b[1;33m\u001b[0m\u001b[1;33m\u001b[0m\u001b[0m\n\u001b[0;32m     12\u001b[0m             \u001b[1;31m#ax.set_ylim([0, 0.25])\u001b[0m\u001b[1;33m\u001b[0m\u001b[1;33m\u001b[0m\u001b[1;33m\u001b[0m\u001b[0m\n\u001b[1;32m---> 13\u001b[1;33m             \u001b[0mdf\u001b[0m\u001b[1;33m.\u001b[0m\u001b[0mboxplot\u001b[0m\u001b[1;33m(\u001b[0m\u001b[0mcolumn\u001b[0m\u001b[1;33m=\u001b[0m\u001b[0mmetrics\u001b[0m\u001b[1;33m,\u001b[0m \u001b[0mby\u001b[0m \u001b[1;33m=\u001b[0m \u001b[0mlist\u001b[0m\u001b[1;33m(\u001b[0m\u001b[0mpair\u001b[0m\u001b[1;33m)\u001b[0m\u001b[1;33m,\u001b[0m\u001b[0max\u001b[0m \u001b[1;33m=\u001b[0m \u001b[0max\u001b[0m\u001b[1;33m)\u001b[0m\u001b[1;33m\u001b[0m\u001b[1;33m\u001b[0m\u001b[0m\n\u001b[0m\u001b[0;32m     14\u001b[0m \u001b[1;33m\u001b[0m\u001b[0m\n\u001b[0;32m     15\u001b[0m         \u001b[1;32mreturn\u001b[0m \u001b[0max\u001b[0m\u001b[1;33m\u001b[0m\u001b[1;33m\u001b[0m\u001b[0m\n",
      "\u001b[1;32m~\\anaconda3\\lib\\site-packages\\pandas\\plotting\\_core.py\u001b[0m in \u001b[0;36mboxplot_frame\u001b[1;34m(self, column, by, ax, fontsize, rot, grid, figsize, layout, return_type, backend, **kwargs)\u001b[0m\n\u001b[0;32m    509\u001b[0m ):\n\u001b[0;32m    510\u001b[0m     \u001b[0mplot_backend\u001b[0m \u001b[1;33m=\u001b[0m \u001b[0m_get_plot_backend\u001b[0m\u001b[1;33m(\u001b[0m\u001b[0mbackend\u001b[0m\u001b[1;33m)\u001b[0m\u001b[1;33m\u001b[0m\u001b[1;33m\u001b[0m\u001b[0m\n\u001b[1;32m--> 511\u001b[1;33m     return plot_backend.boxplot_frame(\n\u001b[0m\u001b[0;32m    512\u001b[0m         \u001b[0mself\u001b[0m\u001b[1;33m,\u001b[0m\u001b[1;33m\u001b[0m\u001b[1;33m\u001b[0m\u001b[0m\n\u001b[0;32m    513\u001b[0m         \u001b[0mcolumn\u001b[0m\u001b[1;33m=\u001b[0m\u001b[0mcolumn\u001b[0m\u001b[1;33m,\u001b[0m\u001b[1;33m\u001b[0m\u001b[1;33m\u001b[0m\u001b[0m\n",
      "\u001b[1;32m~\\anaconda3\\lib\\site-packages\\pandas\\plotting\\_matplotlib\\boxplot.py\u001b[0m in \u001b[0;36mboxplot_frame\u001b[1;34m(self, column, by, ax, fontsize, rot, grid, figsize, layout, return_type, **kwds)\u001b[0m\n\u001b[0;32m    423\u001b[0m     \u001b[1;32mimport\u001b[0m \u001b[0mmatplotlib\u001b[0m\u001b[1;33m.\u001b[0m\u001b[0mpyplot\u001b[0m \u001b[1;32mas\u001b[0m \u001b[0mplt\u001b[0m\u001b[1;33m\u001b[0m\u001b[1;33m\u001b[0m\u001b[0m\n\u001b[0;32m    424\u001b[0m \u001b[1;33m\u001b[0m\u001b[0m\n\u001b[1;32m--> 425\u001b[1;33m     ax = boxplot(\n\u001b[0m\u001b[0;32m    426\u001b[0m         \u001b[0mself\u001b[0m\u001b[1;33m,\u001b[0m\u001b[1;33m\u001b[0m\u001b[1;33m\u001b[0m\u001b[0m\n\u001b[0;32m    427\u001b[0m         \u001b[0mcolumn\u001b[0m\u001b[1;33m=\u001b[0m\u001b[0mcolumn\u001b[0m\u001b[1;33m,\u001b[0m\u001b[1;33m\u001b[0m\u001b[1;33m\u001b[0m\u001b[0m\n",
      "\u001b[1;32m~\\anaconda3\\lib\\site-packages\\pandas\\plotting\\_matplotlib\\boxplot.py\u001b[0m in \u001b[0;36mboxplot\u001b[1;34m(data, column, by, ax, fontsize, rot, grid, figsize, layout, return_type, **kwds)\u001b[0m\n\u001b[0;32m    370\u001b[0m         \u001b[1;31m# Prefer array return type for 2-D plots to match the subplot layout\u001b[0m\u001b[1;33m\u001b[0m\u001b[1;33m\u001b[0m\u001b[1;33m\u001b[0m\u001b[0m\n\u001b[0;32m    371\u001b[0m         \u001b[1;31m# https://github.com/pandas-dev/pandas/pull/12216#issuecomment-241175580\u001b[0m\u001b[1;33m\u001b[0m\u001b[1;33m\u001b[0m\u001b[1;33m\u001b[0m\u001b[0m\n\u001b[1;32m--> 372\u001b[1;33m         result = _grouped_plot_by_column(\n\u001b[0m\u001b[0;32m    373\u001b[0m             \u001b[0mplot_group\u001b[0m\u001b[1;33m,\u001b[0m\u001b[1;33m\u001b[0m\u001b[1;33m\u001b[0m\u001b[0m\n\u001b[0;32m    374\u001b[0m             \u001b[0mdata\u001b[0m\u001b[1;33m,\u001b[0m\u001b[1;33m\u001b[0m\u001b[1;33m\u001b[0m\u001b[0m\n",
      "\u001b[1;32m~\\anaconda3\\lib\\site-packages\\pandas\\plotting\\_matplotlib\\boxplot.py\u001b[0m in \u001b[0;36m_grouped_plot_by_column\u001b[1;34m(plotf, data, columns, by, numeric_only, grid, figsize, ax, layout, return_type, **kwargs)\u001b[0m\n\u001b[0;32m    248\u001b[0m         \u001b[0max\u001b[0m \u001b[1;33m=\u001b[0m \u001b[0m_axes\u001b[0m\u001b[1;33m[\u001b[0m\u001b[0mi\u001b[0m\u001b[1;33m]\u001b[0m\u001b[1;33m\u001b[0m\u001b[1;33m\u001b[0m\u001b[0m\n\u001b[0;32m    249\u001b[0m         \u001b[0mgp_col\u001b[0m \u001b[1;33m=\u001b[0m \u001b[0mgrouped\u001b[0m\u001b[1;33m[\u001b[0m\u001b[0mcol\u001b[0m\u001b[1;33m]\u001b[0m\u001b[1;33m\u001b[0m\u001b[1;33m\u001b[0m\u001b[0m\n\u001b[1;32m--> 250\u001b[1;33m         \u001b[0mkeys\u001b[0m\u001b[1;33m,\u001b[0m \u001b[0mvalues\u001b[0m \u001b[1;33m=\u001b[0m \u001b[0mzip\u001b[0m\u001b[1;33m(\u001b[0m\u001b[1;33m*\u001b[0m\u001b[0mgp_col\u001b[0m\u001b[1;33m)\u001b[0m\u001b[1;33m\u001b[0m\u001b[1;33m\u001b[0m\u001b[0m\n\u001b[0m\u001b[0;32m    251\u001b[0m         \u001b[0mre_plotf\u001b[0m \u001b[1;33m=\u001b[0m \u001b[0mplotf\u001b[0m\u001b[1;33m(\u001b[0m\u001b[0mkeys\u001b[0m\u001b[1;33m,\u001b[0m \u001b[0mvalues\u001b[0m\u001b[1;33m,\u001b[0m \u001b[0max\u001b[0m\u001b[1;33m,\u001b[0m \u001b[1;33m**\u001b[0m\u001b[0mkwargs\u001b[0m\u001b[1;33m)\u001b[0m\u001b[1;33m\u001b[0m\u001b[1;33m\u001b[0m\u001b[0m\n\u001b[0;32m    252\u001b[0m         \u001b[0max\u001b[0m\u001b[1;33m.\u001b[0m\u001b[0mset_title\u001b[0m\u001b[1;33m(\u001b[0m\u001b[0mcol\u001b[0m\u001b[1;33m)\u001b[0m\u001b[1;33m\u001b[0m\u001b[1;33m\u001b[0m\u001b[0m\n",
      "\u001b[1;31mValueError\u001b[0m: not enough values to unpack (expected 2, got 0)"
     ]
    },
    {
     "data": {
      "image/png": "[encoded data removed]",
      "text/plain": [
       "<Figure size 720x432 with 1 Axes>"
      ]
     },
     "metadata": {
      "needs_background": "light"
     },
     "output_type": "display_data"
    }
   ],
   "source": [
    "boxplot_hyper_pair(general_grid_search_result_df_learned.query('mask_dim == \"[28, 28]\"'), \n",
    "                   hyperparam=['acc','bloc','kernel','std_noise','lr_mask','lr_other'], \n",
    "                   metrics = [\"test_ssim\"])"
   ]
  },
  {
   "cell_type": "markdown",
   "metadata": {},
   "source": [
    "### best models in terms of mse\n"
   ]
  },
  {
   "cell_type": "code",
   "execution_count": 17,
   "metadata": {
    "scrolled": false
   },
   "outputs": [],
   "source": [
    "def best_mse_per_hyperparam(dataframe,*argv):\n",
    "    \n",
    "    hyperparam = [arg for arg in argv]\n",
    "    \n",
    "    idx = dataframe.groupby(hyperparam)['test_loss'].transform(min) == dataframe['test_loss']\n",
    "    \n",
    "    best_result_df = dataframe[idx]\n",
    "    \n",
    "    #best_result_df[[var1,var2]] = best_result_df[['bloc','acc']]#.astype(int)        \n",
    "    \n",
    "    best_result_df.sort_values(by = hyperparam,inplace = True)\n",
    "\n",
    "    #best_result_df.to_csv(\"./extracted_result/best_mse_per_bloc_k_local.csv\", sep='\\t') \n",
    "\n",
    "    return best_result_df\n",
    "\n",
    "#best_mse_per_hyperparam(general_grid_search_result_df_learned,'bloc','acc')\n",
    "\n"
   ]
  },
  {
   "cell_type": "code",
   "execution_count": 18,
   "metadata": {},
   "outputs": [],
   "source": [
    "experiment_mri_no_acs = general_grid_search_result_df_learned[general_grid_search_result_df_learned['acs_type']==\"no\"]"
   ]
  },
  {
   "cell_type": "code",
   "execution_count": 19,
   "metadata": {},
   "outputs": [
    {
     "name": "stderr",
     "output_type": "stream",
     "text": [
      "<ipython-input-17-bbeda66db735>:11: SettingWithCopyWarning: \n",
      "A value is trying to be set on a copy of a slice from a DataFrame\n",
      "\n",
      "See the caveats in the documentation: https://pandas.pydata.org/pandas-docs/stable/user_guide/indexing.html#returning-a-view-versus-a-copy\n",
      "  best_result_df.sort_values(by = hyperparam,inplace = True)\n"
     ]
    },
    {
     "data": {
      "text/html": [
       "<div>\n",
       "<style scoped>\n",
       "    .dataframe tbody tr th:only-of-type {\n",
       "        vertical-align: middle;\n",
       "    }\n",
       "\n",
       "    .dataframe tbody tr th {\n",
       "        vertical-align: top;\n",
       "    }\n",
       "\n",
       "    .dataframe thead th {\n",
       "        text-align: right;\n",
       "    }\n",
       "</style>\n",
       "<table border=\"1\" class=\"dataframe\">\n",
       "  <thead>\n",
       "    <tr style=\"text-align: right;\">\n",
       "      <th></th>\n",
       "      <th>mask_dim</th>\n",
       "      <th>acs_type</th>\n",
       "      <th>acc</th>\n",
       "      <th>bloc</th>\n",
       "      <th>kernel</th>\n",
       "      <th>std_noise</th>\n",
       "      <th>lr_mask</th>\n",
       "      <th>lr_other</th>\n",
       "      <th>test_ssim</th>\n",
       "      <th>test_psnr</th>\n",
       "      <th>test_loss</th>\n",
       "      <th>test_loss_denorm</th>\n",
       "    </tr>\n",
       "  </thead>\n",
       "  <tbody>\n",
       "    <tr>\n",
       "      <th>77</th>\n",
       "      <td>[121, 145]</td>\n",
       "      <td>no</td>\n",
       "      <td>0.125</td>\n",
       "      <td>5</td>\n",
       "      <td>[11, 11]</td>\n",
       "      <td>0.0175</td>\n",
       "      <td>0.001</td>\n",
       "      <td>0.001</td>\n",
       "      <td>0.868612</td>\n",
       "      <td>30.250434</td>\n",
       "      <td>0.016960</td>\n",
       "      <td>4.949566e-10</td>\n",
       "    </tr>\n",
       "    <tr>\n",
       "      <th>211</th>\n",
       "      <td>[121, 145]</td>\n",
       "      <td>no</td>\n",
       "      <td>0.250</td>\n",
       "      <td>5</td>\n",
       "      <td>[11, 11]</td>\n",
       "      <td>0.0500</td>\n",
       "      <td>0.001</td>\n",
       "      <td>0.001</td>\n",
       "      <td>0.939971</td>\n",
       "      <td>36.982352</td>\n",
       "      <td>0.004709</td>\n",
       "      <td>1.126549e-10</td>\n",
       "    </tr>\n",
       "  </tbody>\n",
       "</table>\n",
       "</div>"
      ],
      "text/plain": [
       "       mask_dim acs_type    acc  bloc    kernel  std_noise  lr_mask  lr_other  \\\n",
       "77   [121, 145]       no  0.125     5  [11, 11]     0.0175    0.001     0.001   \n",
       "211  [121, 145]       no  0.250     5  [11, 11]     0.0500    0.001     0.001   \n",
       "\n",
       "     test_ssim  test_psnr  test_loss  test_loss_denorm  \n",
       "77    0.868612  30.250434   0.016960      4.949566e-10  \n",
       "211   0.939971  36.982352   0.004709      1.126549e-10  "
      ]
     },
     "execution_count": 19,
     "metadata": {},
     "output_type": "execute_result"
    }
   ],
   "source": [
    "best_mse_per_hyperparam(experiment_mri_no_acs.query('mask_dim==\"[121, 145]\"'),'acc')\n"
   ]
  },
  {
   "cell_type": "code",
   "execution_count": 20,
   "metadata": {},
   "outputs": [
    {
     "name": "stderr",
     "output_type": "stream",
     "text": [
      "<ipython-input-17-bbeda66db735>:11: SettingWithCopyWarning: \n",
      "A value is trying to be set on a copy of a slice from a DataFrame\n",
      "\n",
      "See the caveats in the documentation: https://pandas.pydata.org/pandas-docs/stable/user_guide/indexing.html#returning-a-view-versus-a-copy\n",
      "  best_result_df.sort_values(by = hyperparam,inplace = True)\n"
     ]
    },
    {
     "data": {
      "text/html": [
       "<div>\n",
       "<style scoped>\n",
       "    .dataframe tbody tr th:only-of-type {\n",
       "        vertical-align: middle;\n",
       "    }\n",
       "\n",
       "    .dataframe tbody tr th {\n",
       "        vertical-align: top;\n",
       "    }\n",
       "\n",
       "    .dataframe thead th {\n",
       "        text-align: right;\n",
       "    }\n",
       "</style>\n",
       "<table border=\"1\" class=\"dataframe\">\n",
       "  <thead>\n",
       "    <tr style=\"text-align: right;\">\n",
       "      <th></th>\n",
       "      <th>mask_dim</th>\n",
       "      <th>acs_type</th>\n",
       "      <th>acc</th>\n",
       "      <th>bloc</th>\n",
       "      <th>kernel</th>\n",
       "      <th>std_noise</th>\n",
       "      <th>lr_mask</th>\n",
       "      <th>lr_other</th>\n",
       "      <th>test_ssim</th>\n",
       "      <th>test_psnr</th>\n",
       "      <th>test_loss</th>\n",
       "      <th>test_loss_denorm</th>\n",
       "    </tr>\n",
       "  </thead>\n",
       "  <tbody>\n",
       "    <tr>\n",
       "      <th>409</th>\n",
       "      <td>[4, 4]</td>\n",
       "      <td>no</td>\n",
       "      <td>0.125</td>\n",
       "      <td>10</td>\n",
       "      <td>[13, 13]</td>\n",
       "      <td>0.0175</td>\n",
       "      <td>0.01</td>\n",
       "      <td>0.001</td>\n",
       "      <td>0.965685</td>\n",
       "      <td>39.806023</td>\n",
       "      <td>0.002457</td>\n",
       "      <td>5.076034e-11</td>\n",
       "    </tr>\n",
       "    <tr>\n",
       "      <th>592</th>\n",
       "      <td>[4, 4]</td>\n",
       "      <td>no</td>\n",
       "      <td>0.250</td>\n",
       "      <td>10</td>\n",
       "      <td>[11, 11]</td>\n",
       "      <td>0.0175</td>\n",
       "      <td>0.01</td>\n",
       "      <td>0.001</td>\n",
       "      <td>0.990369</td>\n",
       "      <td>45.880555</td>\n",
       "      <td>0.000696</td>\n",
       "      <td>1.175845e-11</td>\n",
       "    </tr>\n",
       "  </tbody>\n",
       "</table>\n",
       "</div>"
      ],
      "text/plain": [
       "    mask_dim acs_type    acc  bloc    kernel  std_noise  lr_mask  lr_other  \\\n",
       "409   [4, 4]       no  0.125    10  [13, 13]     0.0175     0.01     0.001   \n",
       "592   [4, 4]       no  0.250    10  [11, 11]     0.0175     0.01     0.001   \n",
       "\n",
       "     test_ssim  test_psnr  test_loss  test_loss_denorm  \n",
       "409   0.965685  39.806023   0.002457      5.076034e-11  \n",
       "592   0.990369  45.880555   0.000696      1.175845e-11  "
      ]
     },
     "execution_count": 20,
     "metadata": {},
     "output_type": "execute_result"
    }
   ],
   "source": [
    "best_mse_per_hyperparam(experiment_mri_no_acs.query('mask_dim==\"[4, 4]\"'),'acc')"
   ]
  },
  {
   "cell_type": "code",
   "execution_count": null,
   "metadata": {},
   "outputs": [],
   "source": []
  },
  {
   "cell_type": "code",
   "execution_count": 26,
   "metadata": {},
   "outputs": [
    {
     "name": "stderr",
     "output_type": "stream",
     "text": [
      "<ipython-input-17-bbeda66db735>:11: SettingWithCopyWarning: \n",
      "A value is trying to be set on a copy of a slice from a DataFrame\n",
      "\n",
      "See the caveats in the documentation: https://pandas.pydata.org/pandas-docs/stable/user_guide/indexing.html#returning-a-view-versus-a-copy\n",
      "  best_result_df.sort_values(by = hyperparam,inplace = True)\n"
     ]
    },
    {
     "data": {
      "text/html": [
       "<div>\n",
       "<style scoped>\n",
       "    .dataframe tbody tr th:only-of-type {\n",
       "        vertical-align: middle;\n",
       "    }\n",
       "\n",
       "    .dataframe tbody tr th {\n",
       "        vertical-align: top;\n",
       "    }\n",
       "\n",
       "    .dataframe thead th {\n",
       "        text-align: right;\n",
       "    }\n",
       "</style>\n",
       "<table border=\"1\" class=\"dataframe\">\n",
       "  <thead>\n",
       "    <tr style=\"text-align: right;\">\n",
       "      <th></th>\n",
       "      <th>acs_type</th>\n",
       "      <th>mask_typ</th>\n",
       "      <th>mask_seed</th>\n",
       "      <th>mask_dim</th>\n",
       "      <th>bloc</th>\n",
       "      <th>kernel</th>\n",
       "      <th>lr_other</th>\n",
       "      <th>test_ssim</th>\n",
       "      <th>test_psnr</th>\n",
       "      <th>test_loss</th>\n",
       "      <th>test_loss_denorm</th>\n",
       "    </tr>\n",
       "  </thead>\n",
       "  <tbody>\n",
       "    <tr>\n",
       "      <th>38</th>\n",
       "      <td>no</td>\n",
       "      <td>2D_uniform</td>\n",
       "      <td>71825</td>\n",
       "      <td>[4, 4]</td>\n",
       "      <td>10</td>\n",
       "      <td>[11, 11]</td>\n",
       "      <td>0.0001</td>\n",
       "      <td>0.989384</td>\n",
       "      <td>49.808584</td>\n",
       "      <td>0.000673</td>\n",
       "      <td>6.514534e-12</td>\n",
       "    </tr>\n",
       "    <tr>\n",
       "      <th>9</th>\n",
       "      <td>no</td>\n",
       "      <td>caipiranha</td>\n",
       "      <td>42083</td>\n",
       "      <td>[4, 4]</td>\n",
       "      <td>5</td>\n",
       "      <td>[11, 11]</td>\n",
       "      <td>0.0010</td>\n",
       "      <td>0.994529</td>\n",
       "      <td>52.658104</td>\n",
       "      <td>0.000265</td>\n",
       "      <td>3.272324e-12</td>\n",
       "    </tr>\n",
       "    <tr>\n",
       "      <th>361</th>\n",
       "      <td>no</td>\n",
       "      <td>random</td>\n",
       "      <td>91329</td>\n",
       "      <td>[4, 4]</td>\n",
       "      <td>10</td>\n",
       "      <td>[11, 11]</td>\n",
       "      <td>0.0010</td>\n",
       "      <td>0.993230</td>\n",
       "      <td>50.660711</td>\n",
       "      <td>0.000341</td>\n",
       "      <td>4.490390e-12</td>\n",
       "    </tr>\n",
       "    <tr>\n",
       "      <th>42</th>\n",
       "      <td>no</td>\n",
       "      <td>uniform</td>\n",
       "      <td>99535</td>\n",
       "      <td>[4, 4]</td>\n",
       "      <td>5</td>\n",
       "      <td>[11, 11]</td>\n",
       "      <td>0.0010</td>\n",
       "      <td>0.989852</td>\n",
       "      <td>46.569153</td>\n",
       "      <td>0.000688</td>\n",
       "      <td>1.368443e-11</td>\n",
       "    </tr>\n",
       "  </tbody>\n",
       "</table>\n",
       "</div>"
      ],
      "text/plain": [
       "    acs_type    mask_typ  mask_seed mask_dim  bloc    kernel  lr_other  \\\n",
       "38        no  2D_uniform      71825   [4, 4]    10  [11, 11]    0.0001   \n",
       "9         no  caipiranha      42083   [4, 4]     5  [11, 11]    0.0010   \n",
       "361       no      random      91329   [4, 4]    10  [11, 11]    0.0010   \n",
       "42        no     uniform      99535   [4, 4]     5  [11, 11]    0.0010   \n",
       "\n",
       "     test_ssim  test_psnr  test_loss  test_loss_denorm  \n",
       "38    0.989384  49.808584   0.000673      6.514534e-12  \n",
       "9     0.994529  52.658104   0.000265      3.272324e-12  \n",
       "361   0.993230  50.660711   0.000341      4.490390e-12  \n",
       "42    0.989852  46.569153   0.000688      1.368443e-11  "
      ]
     },
     "execution_count": 26,
     "metadata": {},
     "output_type": "execute_result"
    }
   ],
   "source": [
    "experiment_mri_fixed_no_acs =  general_grid_search_result_df_fixed[general_grid_search_result_df_fixed['acs_type']==\"no\"]\n",
    "best_mse_per_hyperparam(experiment_mri_fixed_no_acs,'mask_typ')\n"
   ]
  },
  {
   "cell_type": "code",
   "execution_count": null,
   "metadata": {},
   "outputs": [],
   "source": [
    "###order suivant SSIM"
   ]
  },
  {
   "cell_type": "code",
   "execution_count": 30,
   "metadata": {},
   "outputs": [
    {
     "data": {
      "text/html": [
       "<div>\n",
       "<style scoped>\n",
       "    .dataframe tbody tr th:only-of-type {\n",
       "        vertical-align: middle;\n",
       "    }\n",
       "\n",
       "    .dataframe tbody tr th {\n",
       "        vertical-align: top;\n",
       "    }\n",
       "\n",
       "    .dataframe thead th {\n",
       "        text-align: right;\n",
       "    }\n",
       "</style>\n",
       "<table border=\"1\" class=\"dataframe\">\n",
       "  <thead>\n",
       "    <tr style=\"text-align: right;\">\n",
       "      <th></th>\n",
       "      <th>mask_dim</th>\n",
       "      <th>acs_type</th>\n",
       "      <th>acc</th>\n",
       "      <th>bloc</th>\n",
       "      <th>kernel</th>\n",
       "      <th>std_noise</th>\n",
       "      <th>lr_mask</th>\n",
       "      <th>lr_other</th>\n",
       "      <th>test_ssim</th>\n",
       "      <th>test_psnr</th>\n",
       "      <th>test_loss</th>\n",
       "      <th>test_loss_denorm</th>\n",
       "    </tr>\n",
       "  </thead>\n",
       "  <tbody>\n",
       "    <tr>\n",
       "      <th>211</th>\n",
       "      <td>[121, 145]</td>\n",
       "      <td>no</td>\n",
       "      <td>0.250</td>\n",
       "      <td>5</td>\n",
       "      <td>[11, 11]</td>\n",
       "      <td>0.0500</td>\n",
       "      <td>0.0010</td>\n",
       "      <td>0.001</td>\n",
       "      <td>0.939971</td>\n",
       "      <td>36.982352</td>\n",
       "      <td>0.004709</td>\n",
       "      <td>1.126549e-10</td>\n",
       "    </tr>\n",
       "    <tr>\n",
       "      <th>194</th>\n",
       "      <td>[121, 145]</td>\n",
       "      <td>no</td>\n",
       "      <td>0.250</td>\n",
       "      <td>5</td>\n",
       "      <td>[11, 11]</td>\n",
       "      <td>0.0175</td>\n",
       "      <td>0.0010</td>\n",
       "      <td>0.001</td>\n",
       "      <td>0.902885</td>\n",
       "      <td>32.932598</td>\n",
       "      <td>0.009229</td>\n",
       "      <td>2.469978e-10</td>\n",
       "    </tr>\n",
       "    <tr>\n",
       "      <th>77</th>\n",
       "      <td>[121, 145]</td>\n",
       "      <td>no</td>\n",
       "      <td>0.125</td>\n",
       "      <td>5</td>\n",
       "      <td>[11, 11]</td>\n",
       "      <td>0.0175</td>\n",
       "      <td>0.0010</td>\n",
       "      <td>0.001</td>\n",
       "      <td>0.868612</td>\n",
       "      <td>30.250434</td>\n",
       "      <td>0.016960</td>\n",
       "      <td>4.949566e-10</td>\n",
       "    </tr>\n",
       "    <tr>\n",
       "      <th>92</th>\n",
       "      <td>[121, 145]</td>\n",
       "      <td>no</td>\n",
       "      <td>0.125</td>\n",
       "      <td>5</td>\n",
       "      <td>[11, 11]</td>\n",
       "      <td>0.0500</td>\n",
       "      <td>0.0010</td>\n",
       "      <td>0.001</td>\n",
       "      <td>0.858128</td>\n",
       "      <td>29.933789</td>\n",
       "      <td>0.018126</td>\n",
       "      <td>5.506723e-10</td>\n",
       "    </tr>\n",
       "    <tr>\n",
       "      <th>237</th>\n",
       "      <td>[121, 145]</td>\n",
       "      <td>no</td>\n",
       "      <td>0.250</td>\n",
       "      <td>5</td>\n",
       "      <td>[13, 13]</td>\n",
       "      <td>0.0175</td>\n",
       "      <td>0.0001</td>\n",
       "      <td>0.001</td>\n",
       "      <td>0.855505</td>\n",
       "      <td>33.648153</td>\n",
       "      <td>0.007694</td>\n",
       "      <td>1.649245e-10</td>\n",
       "    </tr>\n",
       "    <tr>\n",
       "      <th>...</th>\n",
       "      <td>...</td>\n",
       "      <td>...</td>\n",
       "      <td>...</td>\n",
       "      <td>...</td>\n",
       "      <td>...</td>\n",
       "      <td>...</td>\n",
       "      <td>...</td>\n",
       "      <td>...</td>\n",
       "      <td>...</td>\n",
       "      <td>...</td>\n",
       "      <td>...</td>\n",
       "      <td>...</td>\n",
       "    </tr>\n",
       "    <tr>\n",
       "      <th>89</th>\n",
       "      <td>[121, 145]</td>\n",
       "      <td>no</td>\n",
       "      <td>0.125</td>\n",
       "      <td>5</td>\n",
       "      <td>[11, 11]</td>\n",
       "      <td>0.0500</td>\n",
       "      <td>0.0100</td>\n",
       "      <td>0.010</td>\n",
       "      <td>0.112068</td>\n",
       "      <td>7.947941</td>\n",
       "      <td>2.832172</td>\n",
       "      <td>4.727055e-08</td>\n",
       "    </tr>\n",
       "    <tr>\n",
       "      <th>102</th>\n",
       "      <td>[121, 145]</td>\n",
       "      <td>no</td>\n",
       "      <td>0.125</td>\n",
       "      <td>5</td>\n",
       "      <td>[13, 13]</td>\n",
       "      <td>0.0175</td>\n",
       "      <td>0.0100</td>\n",
       "      <td>0.010</td>\n",
       "      <td>0.071005</td>\n",
       "      <td>7.950219</td>\n",
       "      <td>2.527750</td>\n",
       "      <td>4.552885e-08</td>\n",
       "    </tr>\n",
       "    <tr>\n",
       "      <th>223</th>\n",
       "      <td>[121, 145]</td>\n",
       "      <td>no</td>\n",
       "      <td>0.250</td>\n",
       "      <td>5</td>\n",
       "      <td>[13, 13]</td>\n",
       "      <td>0.0175</td>\n",
       "      <td>0.0100</td>\n",
       "      <td>0.010</td>\n",
       "      <td>0.060631</td>\n",
       "      <td>4.520269</td>\n",
       "      <td>4.652281</td>\n",
       "      <td>1.026227e-07</td>\n",
       "    </tr>\n",
       "    <tr>\n",
       "      <th>115</th>\n",
       "      <td>[121, 145]</td>\n",
       "      <td>no</td>\n",
       "      <td>0.125</td>\n",
       "      <td>5</td>\n",
       "      <td>[13, 13]</td>\n",
       "      <td>0.0175</td>\n",
       "      <td>0.0010</td>\n",
       "      <td>0.010</td>\n",
       "      <td>0.012502</td>\n",
       "      <td>-2.805350</td>\n",
       "      <td>11.732242</td>\n",
       "      <td>3.074255e-07</td>\n",
       "    </tr>\n",
       "    <tr>\n",
       "      <th>75</th>\n",
       "      <td>[121, 145]</td>\n",
       "      <td>no</td>\n",
       "      <td>0.125</td>\n",
       "      <td>5</td>\n",
       "      <td>[11, 11]</td>\n",
       "      <td>0.0175</td>\n",
       "      <td>0.0010</td>\n",
       "      <td>0.010</td>\n",
       "      <td>0.008777</td>\n",
       "      <td>-15.410255</td>\n",
       "      <td>63.160191</td>\n",
       "      <td>2.107610e-06</td>\n",
       "    </tr>\n",
       "  </tbody>\n",
       "</table>\n",
       "<p>115 rows × 12 columns</p>\n",
       "</div>"
      ],
      "text/plain": [
       "       mask_dim acs_type    acc  bloc    kernel  std_noise  lr_mask  lr_other  \\\n",
       "211  [121, 145]       no  0.250     5  [11, 11]     0.0500   0.0010     0.001   \n",
       "194  [121, 145]       no  0.250     5  [11, 11]     0.0175   0.0010     0.001   \n",
       "77   [121, 145]       no  0.125     5  [11, 11]     0.0175   0.0010     0.001   \n",
       "92   [121, 145]       no  0.125     5  [11, 11]     0.0500   0.0010     0.001   \n",
       "237  [121, 145]       no  0.250     5  [13, 13]     0.0175   0.0001     0.001   \n",
       "..          ...      ...    ...   ...       ...        ...      ...       ...   \n",
       "89   [121, 145]       no  0.125     5  [11, 11]     0.0500   0.0100     0.010   \n",
       "102  [121, 145]       no  0.125     5  [13, 13]     0.0175   0.0100     0.010   \n",
       "223  [121, 145]       no  0.250     5  [13, 13]     0.0175   0.0100     0.010   \n",
       "115  [121, 145]       no  0.125     5  [13, 13]     0.0175   0.0010     0.010   \n",
       "75   [121, 145]       no  0.125     5  [11, 11]     0.0175   0.0010     0.010   \n",
       "\n",
       "     test_ssim  test_psnr  test_loss  test_loss_denorm  \n",
       "211   0.939971  36.982352   0.004709      1.126549e-10  \n",
       "194   0.902885  32.932598   0.009229      2.469978e-10  \n",
       "77    0.868612  30.250434   0.016960      4.949566e-10  \n",
       "92    0.858128  29.933789   0.018126      5.506723e-10  \n",
       "237   0.855505  33.648153   0.007694      1.649245e-10  \n",
       "..         ...        ...        ...               ...  \n",
       "89    0.112068   7.947941   2.832172      4.727055e-08  \n",
       "102   0.071005   7.950219   2.527750      4.552885e-08  \n",
       "223   0.060631   4.520269   4.652281      1.026227e-07  \n",
       "115   0.012502  -2.805350  11.732242      3.074255e-07  \n",
       "75    0.008777 -15.410255  63.160191      2.107610e-06  \n",
       "\n",
       "[115 rows x 12 columns]"
      ]
     },
     "execution_count": 30,
     "metadata": {},
     "output_type": "execute_result"
    }
   ],
   "source": [
    "experiment_mri_no_acs.query('mask_dim==\"[121, 145]\"').sort_values(by=['test_ssim'], ascending=False)"
   ]
  },
  {
   "cell_type": "code",
   "execution_count": null,
   "metadata": {},
   "outputs": [],
   "source": []
  },
  {
   "cell_type": "code",
   "execution_count": null,
   "metadata": {},
   "outputs": [],
   "source": []
  },
  {
   "cell_type": "code",
   "execution_count": null,
   "metadata": {},
   "outputs": [],
   "source": []
  },
  {
   "cell_type": "code",
   "execution_count": null,
   "metadata": {},
   "outputs": [],
   "source": []
  },
  {
   "cell_type": "code",
   "execution_count": null,
   "metadata": {},
   "outputs": [],
   "source": [
    "############################### NE PAS CONSIDER"
   ]
  },
  {
   "cell_type": "code",
   "execution_count": 28,
   "metadata": {},
   "outputs": [
    {
     "name": "stderr",
     "output_type": "stream",
     "text": [
      "<ipython-input-17-bbeda66db735>:11: SettingWithCopyWarning: \n",
      "A value is trying to be set on a copy of a slice from a DataFrame\n",
      "\n",
      "See the caveats in the documentation: https://pandas.pydata.org/pandas-docs/stable/user_guide/indexing.html#returning-a-view-versus-a-copy\n",
      "  best_result_df.sort_values(by = hyperparam,inplace = True)\n"
     ]
    },
    {
     "data": {
      "text/html": [
       "<div>\n",
       "<style scoped>\n",
       "    .dataframe tbody tr th:only-of-type {\n",
       "        vertical-align: middle;\n",
       "    }\n",
       "\n",
       "    .dataframe tbody tr th {\n",
       "        vertical-align: top;\n",
       "    }\n",
       "\n",
       "    .dataframe thead th {\n",
       "        text-align: right;\n",
       "    }\n",
       "</style>\n",
       "<table border=\"1\" class=\"dataframe\">\n",
       "  <thead>\n",
       "    <tr style=\"text-align: right;\">\n",
       "      <th></th>\n",
       "      <th>mask_dim</th>\n",
       "      <th>acs_type</th>\n",
       "      <th>acc</th>\n",
       "      <th>bloc</th>\n",
       "      <th>kernel</th>\n",
       "      <th>std_noise</th>\n",
       "      <th>lr_mask</th>\n",
       "      <th>lr_other</th>\n",
       "      <th>test_ssim</th>\n",
       "      <th>test_psnr</th>\n",
       "      <th>test_loss</th>\n",
       "      <th>test_loss_denorm</th>\n",
       "    </tr>\n",
       "  </thead>\n",
       "  <tbody>\n",
       "    <tr>\n",
       "      <th>71</th>\n",
       "      <td>[121, 145]</td>\n",
       "      <td>square</td>\n",
       "      <td>0.125</td>\n",
       "      <td>5</td>\n",
       "      <td>[11, 11]</td>\n",
       "      <td>0.0175</td>\n",
       "      <td>0.001</td>\n",
       "      <td>0.001</td>\n",
       "      <td>0.904173</td>\n",
       "      <td>34.123872</td>\n",
       "      <td>0.009544</td>\n",
       "      <td>2.706457e-10</td>\n",
       "    </tr>\n",
       "    <tr>\n",
       "      <th>220</th>\n",
       "      <td>[121, 145]</td>\n",
       "      <td>square</td>\n",
       "      <td>0.250</td>\n",
       "      <td>5</td>\n",
       "      <td>[11, 11]</td>\n",
       "      <td>0.0500</td>\n",
       "      <td>0.001</td>\n",
       "      <td>0.001</td>\n",
       "      <td>0.983663</td>\n",
       "      <td>42.322832</td>\n",
       "      <td>0.000875</td>\n",
       "      <td>2.176515e-11</td>\n",
       "    </tr>\n",
       "  </tbody>\n",
       "</table>\n",
       "</div>"
      ],
      "text/plain": [
       "       mask_dim acs_type    acc  bloc    kernel  std_noise  lr_mask  lr_other  \\\n",
       "71   [121, 145]   square  0.125     5  [11, 11]     0.0175    0.001     0.001   \n",
       "220  [121, 145]   square  0.250     5  [11, 11]     0.0500    0.001     0.001   \n",
       "\n",
       "     test_ssim  test_psnr  test_loss  test_loss_denorm  \n",
       "71    0.904173  34.123872   0.009544      2.706457e-10  \n",
       "220   0.983663  42.322832   0.000875      2.176515e-11  "
      ]
     },
     "execution_count": 28,
     "metadata": {},
     "output_type": "execute_result"
    }
   ],
   "source": [
    "experiment_mri_yes_acs = general_grid_search_result_df_learned[general_grid_search_result_df_learned['acs_type']==\"square\"]\n",
    "best_mse_per_hyperparam(experiment_mri_yes_acs.query('mask_dim==\"[121, 145]\"'),'acc')"
   ]
  },
  {
   "cell_type": "code",
   "execution_count": null,
   "metadata": {},
   "outputs": [],
   "source": []
  },
  {
   "cell_type": "code",
   "execution_count": null,
   "metadata": {},
   "outputs": [],
   "source": []
  }
 ],
 "metadata": {
  "kernelspec": {
   "display_name": "Python 3",
   "language": "python",
   "name": "python3"
  },
  "language_info": {
   "codemirror_mode": {
    "name": "ipython",
    "version": 3
   },
   "file_extension": ".py",
   "mimetype": "text/x-python",
   "name": "python",
   "nbconvert_exporter": "python",
   "pygments_lexer": "ipython3",
   "version": "3.8.3"
  }
 },
 "nbformat": 4,
 "nbformat_minor": 4
}
